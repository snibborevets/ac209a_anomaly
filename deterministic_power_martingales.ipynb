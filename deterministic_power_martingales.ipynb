{
 "cells": [
  {
   "cell_type": "markdown",
   "metadata": {},
   "source": [
    "# Anomaly Detection in Time Series (AC209a Final Project)\n",
    "*Stephen Robbins and Ryan Lapcevic*\n",
    "\n",
    "* [Overview](https://snibborevets.github.io/bad_wiki_edits/overview)\n",
    "* [Key Concepts](https://snibborevets.github.io/bad_wiki_edits/overview)\n",
    "* [Simple Anomaly Detection](https://snibborevets.github.io/bad_wiki_edits/data)\n",
    "* [Deterministic Power Martingales](http://www.ffwizard.com/)\n",
    "* [Randomized Power Martingales](http://www.ffwizard.com/)\n",
    "* [Adiabatic Iterative Support Vector Machines](http://www.ffwizard.com/)\n",
    "* [Conclusion](http://www.ffwizard.com/)\n",
    "* [Works Cited](http://www.ffwizard.com/)"
   ]
  },
  {
   "cell_type": "markdown",
   "metadata": {},
   "source": [
    "---"
   ]
  },
  {
   "cell_type": "markdown",
   "metadata": {},
   "source": [
    "## Deterministic Power Martingales\n",
    "\n",
    "- [Vovk Implementation](#Vovk-Implementation)\n",
    "- [Load and Clean USPS Data](#Load-and-Clean-USPS-Data)\n",
    "- [Run Martingale Functions on USPS Data](#Run-Martingale-Functions-on-USPS-Data)\n",
    "- [Comparison to Vovk Paper](#Comparison-to-Vovk-Paper)\n",
    "- [Run Martingale Functions on S&P 500 Data](#Run-Martingale-Functions-on-S&P-500-Data)\n",
    "- [Discussion](#Discussion)"
   ]
  },
  {
   "cell_type": "markdown",
   "metadata": {},
   "source": [
    "---"
   ]
  },
  {
   "cell_type": "code",
   "execution_count": 1,
   "metadata": {
    "collapsed": false
   },
   "outputs": [
    {
     "data": {
      "text/html": [
       "<script>\n",
       "code_show=true;\n",
       "function code_toggle() {\n",
       " if (code_show){\n",
       " $('div.input').hide();\n",
       " } else {\n",
       " $('div.input').show();\n",
       " }\n",
       " code_show = !code_show\n",
       "}\n",
       "$( document ).ready(code_toggle);\n",
       "</script>\n",
       "<form action=\"javascript:code_toggle()\"><input type=\"submit\" value=\"Click here to toggle on/off the raw code.\"></form>"
      ],
      "text/plain": [
       "<IPython.core.display.HTML object>"
      ]
     },
     "execution_count": 1,
     "metadata": {},
     "output_type": "execute_result"
    }
   ],
   "source": [
    "from IPython.display import HTML\n",
    "\n",
    "HTML('''<script>\n",
    "code_show=true;\n",
    "function code_toggle() {\n",
    " if (code_show){\n",
    " $('div.input').hide();\n",
    " } else {\n",
    " $('div.input').show();\n",
    " }\n",
    " code_show = !code_show\n",
    "}\n",
    "$( document ).ready(code_toggle);\n",
    "</script>\n",
    "<form action=\"javascript:code_toggle()\"><input type=\"submit\" value=\"Click here to toggle on/off the raw code.\"></form>''')"
   ]
  },
  {
   "cell_type": "markdown",
   "metadata": {},
   "source": [
    "---"
   ]
  },
  {
   "cell_type": "markdown",
   "metadata": {},
   "source": [
    "***Import Libraries***"
   ]
  },
  {
   "cell_type": "code",
   "execution_count": 2,
   "metadata": {
    "collapsed": false
   },
   "outputs": [],
   "source": [
    "import matplotlib.pyplot as plt\n",
    "import numpy as np\n",
    "import pandas as pd\n",
    "import sklearn as sk\n",
    "import datetime\n",
    "%matplotlib inline\n",
    "\n",
    "from scipy.spatial.distance import euclidean\n",
    "from sklearn.svm import OneClassSVM\n",
    "from sklearn.cluster import MiniBatchKMeans\n",
    "from luminol import *\n",
    "from luminol.modules.time_series import TimeSeries\n",
    "from luminol.anomaly_detector import AnomalyDetector"
   ]
  },
  {
   "cell_type": "markdown",
   "metadata": {},
   "source": [
    "---"
   ]
  },
  {
   "cell_type": "markdown",
   "metadata": {},
   "source": [
    "### Vovk Implementation\n"
   ]
  },
  {
   "cell_type": "markdown",
   "metadata": {},
   "source": [
    "***Nearest-Neighbors Martingales Functions from \"Testing Exchangeability On-Line\"***"
   ]
  },
  {
   "cell_type": "markdown",
   "metadata": {},
   "source": [
    "Our goal here was to re-create the analysis done in Vovk's \"Testing Exchangeability On-Line\". We used the same dataset from their paper. The data set contains image data of distinct handwritten digits and was generated from mail data provided by the United States Postal Service. As part of a study in the 1990s, the USPS and researchers hired contractors to categorize 9,282 separate digits, 0 to 9, written on mail. The image of each digit was stored in the form of 256 pixels (16x16). \n",
    "\n",
    "We were able to find the data here: http://www.csie.ntu.edu.tw/~cjlin/libsvmtools/datasets/multiclass.html#usps. The data is separated into training and testing sets, but we combined them into one data set similar to Vovk. Our \"x\" data contains the image data of the 256 pixels. Our \"y\" data contains the categorized digit (0-9).\n",
    "\n",
    "Our anomaly functions below receive data in time-series fashion --- one sample at a time. Since our data set is known to be heterogeneous, it's useful for detecting anomalies as we would not expect our data to be exchageable. \n",
    "\n",
    "Given the size of the data set, we were only able to run our martingale function on a subset of the data: the first 500 points. As shown below, however, we were able to repoduce the results in Vovk."
   ]
  },
  {
   "cell_type": "markdown",
   "metadata": {},
   "source": [
    "***FUNCTION: Strangeness - Nearest-Neighbor Method***"
   ]
  },
  {
   "cell_type": "markdown",
   "metadata": {},
   "source": [
    "The \"strangeness function\" is used to determine how different a given sample is from other samples with the same label. As we receive data one-sample at a time, we compare a given sample to the *previous samples only*. \n",
    "\n",
    "The method we use below mimics that of Vovk: the Nearest Neighbor method. For each sample in sequence, we calculate the ratio between the:\n",
    "- Minimum euclidian distance between the sample and all previous samples with the *same label*; and the\n",
    "- Minimum euclidian distance between the sample and all previous samples with a *different label*.\n",
    "\n",
    "In other words, we're determining strangeness by seeing (1) how different our sample is from samples with the same label and (2) how similar our sample is to points with a different label."
   ]
  },
  {
   "cell_type": "code",
   "execution_count": 3,
   "metadata": {
    "collapsed": false
   },
   "outputs": [],
   "source": [
    "# FXN:  inputs: x and y datasets, starting point in dataset to begin analysis, and the ending point where we stop our analysis\n",
    "#       output: array of strangeness values for each sample\n",
    "\n",
    "def strangeness_nn(x, y, start_point, end_point):\n",
    "\n",
    "    n = len(x)\n",
    "    num_array = []    # make blank arrays for storing distance values below \n",
    "    denom_array = []\n",
    "    \n",
    "    if start_point == 0:   # can not determine eucl. distance with only one point.\n",
    "        start_point = 1\n",
    "    \n",
    "    # iterate through each sample in sequence, our \"target\" sample\n",
    "    for i in range(start_point, end_point):\n",
    "\n",
    "        min_dist_num = 100000      # set high starting minimum distance values \n",
    "        min_dist_denom = 100000\n",
    "\n",
    "\n",
    "        # iterate through every sample in sequence receive prior to the \"target\" sample\n",
    "        for j in range(0, i):\n",
    "\n",
    "            # if \"target\" sample has the same label...\n",
    "            if y.iloc[i] == y.iloc[j]:\n",
    "\n",
    "                # ...calculate the euclidian distance...\n",
    "                dist_num = euclidean(x.iloc[i, :], x.iloc[j, :])\n",
    "\n",
    "                #...and store value if it's the smallest distance calculated so far. \n",
    "                if dist_num < min_dist_num:\n",
    "                    min_dist_num = dist_num\n",
    "                    \n",
    "            # if \"target\" sample has different label...\n",
    "            elif y.iloc[i] <> y.iloc[j]:\n",
    "\n",
    "                # ...calculate the euclidian distance...\n",
    "                dist_denom = euclidean(x.iloc[i, :], x.iloc[j, :])\n",
    "\n",
    "                #...and store value if it's the smallest distance calculated so far.\n",
    "                if dist_denom < min_dist_denom:\n",
    "                    min_dist_denom = dist_denom\n",
    "\n",
    "        # store same-label minimum distances and different-label minimum distances into arrays  \n",
    "        num_array.append(min_dist_num)\n",
    "        denom_array.append(min_dist_denom)\n",
    "\n",
    "    # compute our strangeness array with stored values\n",
    "    strangeness_array = np.divide(num_array, denom_array)\n",
    "    \n",
    "    # return strangeness array\n",
    "    return strangeness_array"
   ]
  },
  {
   "cell_type": "markdown",
   "metadata": {},
   "source": [
    "***FUNCTION: Calculate p-values of Strangeness Array*** "
   ]
  },
  {
   "cell_type": "markdown",
   "metadata": {},
   "source": [
    "Next, we calculate our \"p-values\" per the Vovk paper. The p-value determines relative strangeness: the strangeness a given sample compared to the strangeness of previous samples. Given a sample, we count the number of times this sample has a lower strangeness value than previous samples' strangeness values. Then, we divide this by the number of samples we've received. \n",
    "\n",
    "Vovk describes these p-values as \"confidence tranducers\" --- put simply, the p-values indicate how confident we are that a given point should be considered anomaly or not.\n",
    "\n",
    "It is also worth pointing out that the function below corresponds to what Vovk refers to as a \"deterministic confidence transducer.\" This is in contrast to a \"randomised confidence transducer,\" which adds a random variable between 0 and 1 to the numerator. This simple addition to the numerator simply ensures that no two p-values are the same."
   ]
  },
  {
   "cell_type": "code",
   "execution_count": 4,
   "metadata": {
    "collapsed": false
   },
   "outputs": [],
   "source": [
    "# FXN:  input: array of strangeness values for each sample\n",
    "#       output: array of p-values for each sample\n",
    "\n",
    "def p_values(strangeness_array):\n",
    "\n",
    "    p_val_array = [1]  # set initial p-value to 1\n",
    "    \n",
    "    \n",
    "    # iterate through each \"target\" sample in strangeness array\n",
    "    for i in range(1, len(strangeness_array)):\n",
    "\n",
    "        count = 0.0    #set initial count to zero\n",
    "\n",
    "        # for each \"target\" sample, iterate through all previous strangeness points...\n",
    "        for j in range(0, i):\n",
    "\n",
    "            # each time the \"target\" sample's strangeness is less than a previous sample's strangeness...\n",
    "            if strangeness_array[i] < strangeness_array[j]:\n",
    "                \n",
    "                # increase count by 1\n",
    "                count = count + 1.\n",
    "\n",
    "        # per paper, p-val is #{i: αi ≥ αn} / n  --- strangeness at n is less than or equal to prev samples INCLUDING at n.\n",
    "        p_val = (count + 1) / (i + 1)  \n",
    "\n",
    "        # add p-value to our array\n",
    "        p_val_array.append(p_val)\n",
    "        \n",
    "    # return the array of p-values\n",
    "    return p_val_array"
   ]
  },
  {
   "cell_type": "markdown",
   "metadata": {},
   "source": [
    "***FUNCTION: Calculate Martingale Values***"
   ]
  },
  {
   "cell_type": "markdown",
   "metadata": {},
   "source": [
    "Finally, we calculate our martingale values. The martingale function is cumulative in nature, as each martingale value is calculated by multiplying a sample's relative strangeness (p-value) every previous samples' p-values. A tuning paramter, epsilon, is incorporated into this function to both yield better results and normalize our data.\n",
    "\n",
    "It's worth noting that because of the manner in which epsilon \"tunes\" our values below (p-values to the *power* of 1 minus epsilon), Vovk describes these martingales as \"Power Martingales.\""
   ]
  },
  {
   "cell_type": "code",
   "execution_count": 5,
   "metadata": {
    "collapsed": false
   },
   "outputs": [],
   "source": [
    "# FXN:  input: p-values of samples and tuning parameter, epsilon\n",
    "#       output: array of martingale values\n",
    "\n",
    "def martingale_values(p_val_array, epsilon):\n",
    "\n",
    "    martingale_array = [1]    # set initial value to 1\n",
    "\n",
    "    # iterate through each p-value\n",
    "    for i in range(1, len(p_val_array)):\n",
    "\n",
    "        # calculate the \"target\" sample's individual martigale value based on it's p-value and our tuning parameter\n",
    "        martingale_at_i = epsilon * (p_val_array[i] ** (epsilon - 1))\n",
    "\n",
    "        # multiply the \"target\" sample's value by the previous value in the martingale array\n",
    "        martingale_val = martingale_at_i * martingale_array[i - 1]\n",
    "\n",
    "        # store this value in the martingale array\n",
    "        martingale_array.append(martingale_val)\n",
    "    \n",
    "    #return array of martingale values\n",
    "    return martingale_array"
   ]
  },
  {
   "cell_type": "markdown",
   "metadata": {},
   "source": [
    "---"
   ]
  },
  {
   "cell_type": "markdown",
   "metadata": {},
   "source": [
    "### Load and Clean USPS Data"
   ]
  },
  {
   "cell_type": "markdown",
   "metadata": {},
   "source": [
    "NOTE: Data sets downloaded from link above were very clean. Very minor formatting was needed before loading data, which we completed in Excel."
   ]
  },
  {
   "cell_type": "code",
   "execution_count": 6,
   "metadata": {
    "collapsed": true
   },
   "outputs": [],
   "source": [
    "# load training and testing sets\n",
    "train = pd.read_csv('usps_train.csv')\n",
    "test = pd.read_csv('usps_test.csv')\n",
    "\n",
    "# per Vovk, combined training and testing data sets\n",
    "data = pd.concat((train, test), axis=0)\n",
    "\n",
    "# make x- and y- arrays\n",
    "y = data.iloc[:, -1]\n",
    "x = data.iloc[:, :-1]"
   ]
  },
  {
   "cell_type": "markdown",
   "metadata": {},
   "source": [
    "---"
   ]
  },
  {
   "cell_type": "markdown",
   "metadata": {},
   "source": [
    "### Run Martingale Functions on USPS Data"
   ]
  },
  {
   "cell_type": "markdown",
   "metadata": {},
   "source": [
    "In order to replicate Vovk's output in figure 1, we need to:\n",
    "1. Run our data through the strangeness and p-value functions above;\n",
    "2. Create range of epsilon values between 0 and 1 (for x-axis)\n",
    "3. Run our martingale function for each epsilon value\n",
    "4. For each epsilon value, calculate the log (base 10) of the *final* martingale value (for y-axis)\n",
    "\n",
    "As the martingale output is cumulative, we are concerned with the *final* value of each martingale for a given epsilon. "
   ]
  },
  {
   "cell_type": "code",
   "execution_count": 7,
   "metadata": {
    "collapsed": true
   },
   "outputs": [],
   "source": [
    "# establish starting and ending points on data sets for analysis\n",
    "start_point = 100\n",
    "end_point = 500\n",
    "\n",
    "# run USPS dataset through functions above\n",
    "strangeness_array_nn = strangeness_nn(x, y, start_point, end_point)\n",
    "p_val_array_nn = p_values(strangeness_array_nn)"
   ]
  },
  {
   "cell_type": "code",
   "execution_count": 8,
   "metadata": {
    "collapsed": false
   },
   "outputs": [],
   "source": [
    "# create array of epsilon values between 0 and 1\n",
    "epsilon_range = np.arange(0, 1.01, 0.1)\n",
    "\n",
    "# set first value to 0.01 (can't be zero because we're taking the log later...)\n",
    "epsilon_range[0] = 0.01\n",
    "\n",
    "# create array to store values for y-axis\n",
    "log_final_mart_array = []\n",
    "\n",
    "# iterate through each epsilon value\n",
    "for i in range(0, len(epsilon_range)):\n",
    "\n",
    "    # run the martingale function for each epsilon\n",
    "    martingale_array_nn = martingale_values(p_val_array_nn, epsilon_range[i])\n",
    "    \n",
    "    # compute the log (base 10) of the final value in the martingale array\n",
    "    log_final_mart_val = np.log10(martingale_array_nn[-1])\n",
    "\n",
    "    # store this value into an array (for our y-axis below)\n",
    "    log_final_mart_array.append(log_final_mart_val)"
   ]
  },
  {
   "cell_type": "markdown",
   "metadata": {},
   "source": [
    "---"
   ]
  },
  {
   "cell_type": "markdown",
   "metadata": {},
   "source": [
    "### Comparison to Vovk Paper"
   ]
  },
  {
   "cell_type": "markdown",
   "metadata": {},
   "source": [
    "To compare our methods, we graph our results just as in Figure 1 of the Vovk paper: x = epsilon value range; y = log of final martingale value."
   ]
  },
  {
   "cell_type": "code",
   "execution_count": 9,
   "metadata": {
    "collapsed": false
   },
   "outputs": [
    {
     "data": {
      "image/png": "[encoded data removed]",
      "text/plain": [
       "<matplotlib.figure.Figure at 0xe70c208>"
      ]
     },
     "metadata": {},
     "output_type": "display_data"
    }
   ],
   "source": [
    "# create plot\n",
    "fig, ax = plt.subplots(figsize=(5,5))\n",
    "\n",
    "# plot our epsilon range versus the log of our final martingale values\n",
    "ax.plot(epsilon_range, log_final_mart_array)\n",
    "\n",
    "# set chart attributes\n",
    "ax.set_title(' Log of Final NN Power Martingale Value vs. Epsilon: USPS Data (samples ' + str(start_point) + ' to ' + str(end_point) + ')', fontsize=10)\n",
    "ax.set_xlabel('Epsilon Value')\n",
    "ax.set_ylabel('Log (base 10) of Final Martingale Value')\n",
    "ax.title.set_position([.5, 1.05])\n",
    "\n",
    "# show plot\n",
    "plt.show()"
   ]
  },
  {
   "cell_type": "markdown",
   "metadata": {},
   "source": [
    "**VOVK FIGURE 1 - NN Power Martingales as Function of Epsilon: Full USPS Dataset**"
   ]
  },
  {
   "cell_type": "markdown",
   "metadata": {},
   "source": [
    "<img style=\"float: left;\" src=\"vovk_fig1.jpg\">"
   ]
  },
  {
   "cell_type": "markdown",
   "metadata": {},
   "source": [
    "---"
   ]
  },
  {
   "cell_type": "markdown",
   "metadata": {},
   "source": [
    "### Run Martingale Functions on S&P 500 Data"
   ]
  },
  {
   "cell_type": "code",
   "execution_count": null,
   "metadata": {
    "collapsed": true
   },
   "outputs": [],
   "source": []
  },
  {
   "cell_type": "code",
   "execution_count": null,
   "metadata": {
    "collapsed": true
   },
   "outputs": [],
   "source": []
  },
  {
   "cell_type": "code",
   "execution_count": null,
   "metadata": {
    "collapsed": true
   },
   "outputs": [],
   "source": []
  },
  {
   "cell_type": "markdown",
   "metadata": {},
   "source": [
    "---"
   ]
  },
  {
   "cell_type": "markdown",
   "metadata": {},
   "source": [
    "### Discussion"
   ]
  },
  {
   "cell_type": "markdown",
   "metadata": {},
   "source": [
    "We were able to successfully implement the Nearest-Neighbor Power Martingale as outlined in the Vovk paper. Although we were only able to use a subset of the data, directionally our results are identical. As we increase our subset range, our initial martingale values start from a lower value and asymptomatically approach zero."
   ]
  },
  {
   "cell_type": "markdown",
   "metadata": {},
   "source": [
    "---"
   ]
  }
 ],
 "metadata": {
  "anaconda-cloud": {},
  "kernelspec": {
   "display_name": "Python [Root]",
   "language": "python",
   "name": "Python [Root]"
  },
  "language_info": {
   "codemirror_mode": {
    "name": "ipython",
    "version": 2
   },
   "file_extension": ".py",
   "mimetype": "text/x-python",
   "name": "python",
   "nbconvert_exporter": "python",
   "pygments_lexer": "ipython2",
   "version": "2.7.12"
  }
 },
 "nbformat": 4,
 "nbformat_minor": 1
}
