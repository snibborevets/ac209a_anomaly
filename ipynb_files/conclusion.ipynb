{
 "cells": [
  {
   "cell_type": "code",
   "execution_count": 1,
   "metadata": {
    "collapsed": false
   },
   "outputs": [],
   "source": [
    "from IPython.display import HTML"
   ]
  },
  {
   "cell_type": "markdown",
   "metadata": {},
   "source": [
    "<a href = \"https://snibborevets.github.io/ac209a_anomaly/overview\"><img style=\"float: left;\" src=\"https://snibborevets.github.io/ac209a_anomaly/webpage_banner.jpg\"></a>"
   ]
  },
  {
   "cell_type": "code",
   "execution_count": 2,
   "metadata": {
    "collapsed": false,
    "scrolled": true
   },
   "outputs": [
    {
     "data": {
      "text/html": [
       "<blockquote>\n",
       "            \n",
       "        <script>\n",
       "            code_show=true;\n",
       "            function code_toggle() {\n",
       "                if (code_show){\n",
       "                     $('div.input').hide();\n",
       "                 } else {\n",
       "                     $('div.input').show();\n",
       "                 }\n",
       "             code_show = !code_show\n",
       "            }\n",
       "            $( document ).ready(code_toggle);\n",
       "        </script>\n",
       "\n",
       "        <form action=\"javascript:code_toggle()\" id=\"button\">\n",
       "            <input type=\"submit\" value=\"Click here to toggle on/off the raw code.\">        </form>\n",
       "\n",
       "        </blockquote>"
      ],
      "text/plain": [
       "<IPython.core.display.HTML object>"
      ]
     },
     "execution_count": 2,
     "metadata": {},
     "output_type": "execute_result"
    }
   ],
   "source": [
    "HTML('''<blockquote>\n",
    "            \n",
    "        <script>\n",
    "            code_show=true;\n",
    "            function code_toggle() {\n",
    "                if (code_show){\n",
    "                     $('div.input').hide();\n",
    "                 } else {\n",
    "                     $('div.input').show();\n",
    "                 }\n",
    "             code_show = !code_show\n",
    "            }\n",
    "            $( document ).ready(code_toggle);\n",
    "        </script>\n",
    "\n",
    "        <form action=\"javascript:code_toggle()\" id=\"button\">\n",
    "            <input type=\"submit\" value=\"Click here to toggle on/off the raw code.\">\\\n",
    "        </form>\n",
    "\n",
    "        </blockquote>''')"
   ]
  },
  {
   "cell_type": "code",
   "execution_count": 3,
   "metadata": {
    "collapsed": false
   },
   "outputs": [
    {
     "data": {
      "text/html": [
       "<blockquote>\n",
       "\n",
       "        <h2> Website Links: </h2>\n",
       "        \n",
       "        <br>\n",
       "        \n",
       "        <select onChange=\"window.location.href=this.value\">\n",
       "           <option value = \"overview.html\">Overview</option>\n",
       "           <option value = \"key_concepts.html\">Key Concepts</option>\n",
       "           <option value = \"simple_anomaly_detection.html\">Simple Anomaly Detection</option>\n",
       "           <option value = \"deterministic_power_martingales.html\">Deterministic Power Martingales</option>\n",
       "           <option value = \"randomized_power_martingales.html\">Randomized Power Martingales</option>\n",
       "           <option value = \"adiabatic_SVM.html\">Adiabatic Iterative Support Vector Machines</option>\n",
       "           <option value = \"conclusion.html\" selected = \"selected\">Conclusion</option>\n",
       "           <option value = \"works_cited.html\">Works Cited</option>\n",
       "           <option value = \"https://snibborevets.github.io/ac209a_anomaly/Stephen_Robbins_Ryan_Lapcevic_AC209a_Poster.pdf\">Poster Presentation</option>\n",
       "        </select>\n",
       "\n",
       "        </blockquote>"
      ],
      "text/plain": [
       "<IPython.core.display.HTML object>"
      ]
     },
     "execution_count": 3,
     "metadata": {},
     "output_type": "execute_result"
    }
   ],
   "source": [
    "HTML('''<blockquote>\n",
    "\n",
    "        <h2> Website Links: </h2>\n",
    "        \n",
    "        <br>\n",
    "        \n",
    "        <select onChange=\"window.location.href=this.value\">\n",
    "           <option value = \"overview.html\">Overview</option>\n",
    "           <option value = \"key_concepts.html\">Key Concepts</option>\n",
    "           <option value = \"simple_anomaly_detection.html\">Simple Anomaly Detection</option>\n",
    "           <option value = \"deterministic_power_martingales.html\">Deterministic Power Martingales</option>\n",
    "           <option value = \"randomized_power_martingales.html\">Randomized Power Martingales</option>\n",
    "           <option value = \"adiabatic_SVM.html\">Adiabatic Iterative Support Vector Machines</option>\n",
    "           <option value = \"conclusion.html\" selected = \"selected\">Conclusion</option>\n",
    "           <option value = \"works_cited.html\">Works Cited</option>\n",
    "           <option value = \"https://snibborevets.github.io/ac209a_anomaly/Stephen_Robbins_Ryan_Lapcevic_AC209a_Poster.pdf\">Poster Presentation</option>\n",
    "        </select>\n",
    "\n",
    "        </blockquote>''')"
   ]
  },
  {
   "cell_type": "markdown",
   "metadata": {},
   "source": [
    "---"
   ]
  },
  {
   "cell_type": "markdown",
   "metadata": {},
   "source": [
    "## Conclusion\n",
    "\n",
    "- [Results and Observations](#Results-and-Observations)\n",
    "- [Next Steps](#Next-Steps)"
   ]
  },
  {
   "cell_type": "markdown",
   "metadata": {},
   "source": [
    "---"
   ]
  },
  {
   "cell_type": "markdown",
   "metadata": {},
   "source": [
    "### Results and Observations\n"
   ]
  },
  {
   "cell_type": "markdown",
   "metadata": {},
   "source": [
    "We used several methods for detecting anomalies: simple detection function using a derivative-based algorithm, deterministic and randomized power martingales, and adiabatic iterative support vector machines. Our empirical results suggest that our martingale-based anomaly detection algorithm successfully identifies concept changes in streaming data for each method. \n",
    "\n",
    "Since we can easily identify anomalous events in financial markets, we ran our anomaly detection algorithms on the S&P 500 Index. Below we compare two methods' abilities to detect anomalies in the S&P 500: derivate-based algorithm and randomized power martingale."
   ]
  },
  {
   "cell_type": "markdown",
   "metadata": {},
   "source": [
    "#### Derivative-Based Algorithm (1950-2016):\n",
    "The chart below shows the [simple anomaly detection](https://snibborevets.github.io/ac209a_anomaly/simple_anomaly_detection.html) algorithm on 56 years of daily S&P 500 data. It's evident that \"spikes\" on our anomaly score correspond to major market events, e.g. the Crash of 1987."
   ]
  },
  {
   "cell_type": "markdown",
   "metadata": {},
   "source": [
    "<img style=\"float: left;\" src=\"https://snibborevets.github.io/ac209a_anomaly/simple_sp500.jpg\">"
   ]
  },
  {
   "cell_type": "markdown",
   "metadata": {},
   "source": [
    "#### Derivative-Based Algorithm (Zoom on Crash of 1987): \n",
    "Below we zoom in on 100 trading days surrounding the Crash of 1987. It's clear that on 10/19/1987 there is a clear anomaly --- the S&P 500 index lost over 20% of it's value."
   ]
  },
  {
   "cell_type": "markdown",
   "metadata": {},
   "source": [
    "<img style=\"float: left;\" src=\"https://snibborevets.github.io/ac209a_anomaly/simple_zoom_1987.jpg\">"
   ]
  },
  {
   "cell_type": "markdown",
   "metadata": {},
   "source": [
    "#### Randomized Power Martingale Algorithm (1950-2016): \n",
    "While our martingale function detects fluctuations in the market, it appears to be worse at detecting anomalies than our simple algorithm."
   ]
  },
  {
   "cell_type": "markdown",
   "metadata": {},
   "source": [
    "<img style=\"float: left;\" src=\"https://snibborevets.github.io/ac209a_anomaly/mart_sp500.jpg\">"
   ]
  },
  {
   "cell_type": "markdown",
   "metadata": {},
   "source": [
    "#### Randomized Power Martingale Algorithm (Zoom on Crash of 1987): \n",
    "The difference between the simple derivative-based algorithm and our randomized power martingale function is even more noticable as we zoom in on the Crash of 1987. The simple algorithm outperforms our randomized power martingale algorithm in this domain."
   ]
  },
  {
   "cell_type": "markdown",
   "metadata": {},
   "source": [
    "<img style=\"float: left;\" src=\"https://snibborevets.github.io/ac209a_anomaly/mart_zoom_1987.jpg\">"
   ]
  },
  {
   "cell_type": "markdown",
   "metadata": {},
   "source": [
    "---"
   ]
  },
  {
   "cell_type": "markdown",
   "metadata": {},
   "source": [
    "### Next Steps"
   ]
  },
  {
   "cell_type": "markdown",
   "metadata": {},
   "source": [
    "First, we would have liked to spend more time refining our strangeness algorithms, specifically the randomized power martingales and adiabatic iterative SVM methods. Re: the former, it would have been useful to make our algorithm match exactly that of Vovk's research on USPS data. Furthermore, as seen above, we may have been able to improve the performance so that it yielded better results than the simple algorithm. Re: the latter, we were not able to fully implement the algorithm. \n",
    "\n",
    "Second, while our algorithm successfully identifies the occurrence of anomalies, it does not provide any information on the exact nature of the anomaly. For instance, the above plots highlight periods of abrupt change in financial markets, but it does not distinguish between market crashes and rallies. In more complicated problem domains, such as the detection of computer network anomalies, several classes of anomaly may be possible. Potential extensions of our algorithm might attempt not only to identify the occurrence anomalies, but also to classify them depending on additional information gleaned from the time series. This would entail a more sophisticated analysis of the time series data stream, perhaps employing an iterative singular value decomposition to extract features as the data are received.\n",
    "\n",
    "Lastly, we would have liked to explore more methods for determining strangeness of our data. We used the nearest-neighbor and SVM methods, but additional strangeness measures could have been utilized. For example, we could have used the random forest classifier or other decision-tree algorithms to determine how strange a given point is compared to previous data received. An interesting study comparing various strangeness measures for anomaly detection can be found [here](https://www.ncbi.nlm.nih.gov/pmc/articles/PMC4934294/)."
   ]
  },
  {
   "cell_type": "code",
   "execution_count": null,
   "metadata": {
    "collapsed": true
   },
   "outputs": [],
   "source": []
  },
  {
   "cell_type": "code",
   "execution_count": null,
   "metadata": {
    "collapsed": true
   },
   "outputs": [],
   "source": []
  },
  {
   "cell_type": "markdown",
   "metadata": {},
   "source": [
    "---"
   ]
  }
 ],
 "metadata": {
  "anaconda-cloud": {},
  "kernelspec": {
   "display_name": "Python [Root]",
   "language": "python",
   "name": "Python [Root]"
  },
  "language_info": {
   "codemirror_mode": {
    "name": "ipython",
    "version": 2
   },
   "file_extension": ".py",
   "mimetype": "text/x-python",
   "name": "python",
   "nbconvert_exporter": "python",
   "pygments_lexer": "ipython2",
   "version": "2.7.12"
  }
 },
 "nbformat": 4,
 "nbformat_minor": 1
}
