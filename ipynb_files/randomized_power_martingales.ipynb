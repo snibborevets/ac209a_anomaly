{
 "cells": [
  {
   "cell_type": "code",
   "execution_count": 2,
   "metadata": {
    "collapsed": false
   },
   "outputs": [],
   "source": [
    "import matplotlib.pyplot as plt\n",
    "import numpy as np\n",
    "import pandas as pd\n",
    "import sklearn as sk\n",
    "import datetime\n",
    "%matplotlib inline\n",
    "\n",
    "from IPython.display import HTML\n",
    "from scipy.spatial.distance import euclidean\n",
    "from luminol import *\n",
    "from luminol.modules.time_series import TimeSeries\n",
    "from luminol.anomaly_detector import AnomalyDetector"
   ]
  },
  {
   "cell_type": "markdown",
   "metadata": {},
   "source": [
    "<a href = \"https://snibborevets.github.io/ac209a_anomaly/overview\"><img style=\"float: left;\" src=\"https://snibborevets.github.io/ac209a_anomaly/webpage_banner.jpg\"></a>"
   ]
  },
  {
   "cell_type": "code",
   "execution_count": 3,
   "metadata": {
    "collapsed": false
   },
   "outputs": [
    {
     "data": {
      "text/html": [
       "<blockquote>\n",
       "            \n",
       "        <script>\n",
       "            code_show=true;\n",
       "            function code_toggle() {\n",
       "                if (code_show){\n",
       "                     $('div.input').hide();\n",
       "                 } else {\n",
       "                     $('div.input').show();\n",
       "                 }\n",
       "             code_show = !code_show\n",
       "            }\n",
       "            $( document ).ready(code_toggle);\n",
       "        </script>\n",
       "\n",
       "        <form action=\"javascript:code_toggle()\" id=\"button\">\n",
       "            <input type=\"submit\" value=\"Click here to toggle on/off the raw code.\">        </form>\n",
       "\n",
       "        </blockquote>"
      ],
      "text/plain": [
       "<IPython.core.display.HTML object>"
      ]
     },
     "execution_count": 3,
     "metadata": {},
     "output_type": "execute_result"
    }
   ],
   "source": [
    "HTML('''<blockquote>\n",
    "            \n",
    "        <script>\n",
    "            code_show=true;\n",
    "            function code_toggle() {\n",
    "                if (code_show){\n",
    "                     $('div.input').hide();\n",
    "                 } else {\n",
    "                     $('div.input').show();\n",
    "                 }\n",
    "             code_show = !code_show\n",
    "            }\n",
    "            $( document ).ready(code_toggle);\n",
    "        </script>\n",
    "\n",
    "        <form action=\"javascript:code_toggle()\" id=\"button\">\n",
    "            <input type=\"submit\" value=\"Click here to toggle on/off the raw code.\">\\\n",
    "        </form>\n",
    "\n",
    "        </blockquote>''')"
   ]
  },
  {
   "cell_type": "code",
   "execution_count": 4,
   "metadata": {
    "collapsed": false
   },
   "outputs": [
    {
     "data": {
      "text/html": [
       "<blockquote>\n",
       "\n",
       "        <h2> Website Links: </h2>\n",
       "        \n",
       "        <br>\n",
       "        \n",
       "        <select onChange=\"window.location.href=this.value\">\n",
       "           <option value = \"overview.html\" >Overview</option>\n",
       "           <option value = \"key_concepts.html\">Key Concepts</option>\n",
       "           <option value = \"simple_anomaly_detection.html\">Simple Anomaly Detection</option>\n",
       "           <option value = \"deterministic_power_martingales.html\">Deterministic Power Martingales</option>\n",
       "           <option value = \"randomized_power_martingales.html\" selected = \"selected\">Randomized Power Martingales</option>\n",
       "           <option value = \"adiabatic_SVM.html\">Adiabatic Iterative Support Vector Machines</option>\n",
       "           <option value = \"conclusion.html\">Conclusion</option>\n",
       "           <option value = \"works_cited.html\">Works Cited</option>\n",
       "           <option value = \"https://snibborevets.github.io/ac209a_anomaly/Stephen_Robbins_Ryan_Lapcevic_AC209a_Poster.pdf\">Poster Presentation</option>\n",
       "        </select>\n",
       "\n",
       "        </blockquote>"
      ],
      "text/plain": [
       "<IPython.core.display.HTML object>"
      ]
     },
     "execution_count": 4,
     "metadata": {},
     "output_type": "execute_result"
    }
   ],
   "source": [
    "HTML('''<blockquote>\n",
    "\n",
    "        <h2> Website Links: </h2>\n",
    "        \n",
    "        <br>\n",
    "        \n",
    "        <select onChange=\"window.location.href=this.value\">\n",
    "           <option value = \"overview.html\" >Overview</option>\n",
    "           <option value = \"key_concepts.html\">Key Concepts</option>\n",
    "           <option value = \"simple_anomaly_detection.html\">Simple Anomaly Detection</option>\n",
    "           <option value = \"deterministic_power_martingales.html\">Deterministic Power Martingales</option>\n",
    "           <option value = \"randomized_power_martingales.html\" selected = \"selected\">Randomized Power Martingales</option>\n",
    "           <option value = \"adiabatic_SVM.html\">Adiabatic Iterative Support Vector Machines</option>\n",
    "           <option value = \"conclusion.html\">Conclusion</option>\n",
    "           <option value = \"works_cited.html\">Works Cited</option>\n",
    "           <option value = \"https://snibborevets.github.io/ac209a_anomaly/Stephen_Robbins_Ryan_Lapcevic_AC209a_Poster.pdf\">Poster Presentation</option>\n",
    "        </select>\n",
    "\n",
    "        </blockquote>''')"
   ]
  },
  {
   "cell_type": "markdown",
   "metadata": {},
   "source": [
    "---"
   ]
  },
  {
   "cell_type": "markdown",
   "metadata": {},
   "source": [
    "## Randomized Power Martingales\n",
    "\n",
    "*page under construction*"
   ]
  },
  {
   "cell_type": "markdown",
   "metadata": {},
   "source": [
    "---"
   ]
  }
 ],
 "metadata": {
  "anaconda-cloud": {},
  "kernelspec": {
   "display_name": "Python [Root]",
   "language": "python",
   "name": "Python [Root]"
  },
  "language_info": {
   "codemirror_mode": {
    "name": "ipython",
    "version": 2
   },
   "file_extension": ".py",
   "mimetype": "text/x-python",
   "name": "python",
   "nbconvert_exporter": "python",
   "pygments_lexer": "ipython2",
   "version": "2.7.12"
  }
 },
 "nbformat": 4,
 "nbformat_minor": 1
}
