{
 "cells": [
  {
   "cell_type": "code",
   "execution_count": 1,
   "metadata": {
    "collapsed": false
   },
   "outputs": [],
   "source": [
    "from IPython.display import HTML"
   ]
  },
  {
   "cell_type": "markdown",
   "metadata": {},
   "source": [
    "<a href = \"https://snibborevets.github.io/ac209a_anomaly/overview\"><img style=\"float: left;\" src=\"https://snibborevets.github.io/ac209a_anomaly/webpage_banner.jpg\"></a>"
   ]
  },
  {
   "cell_type": "code",
   "execution_count": 2,
   "metadata": {
    "collapsed": false,
    "scrolled": true
   },
   "outputs": [
    {
     "data": {
      "text/html": [
       "<blockquote>\n",
       "            \n",
       "        <script>\n",
       "            code_show=true;\n",
       "            function code_toggle() {\n",
       "                if (code_show){\n",
       "                     $('div.input').hide();\n",
       "                 } else {\n",
       "                     $('div.input').show();\n",
       "                 }\n",
       "             code_show = !code_show\n",
       "            }\n",
       "            $( document ).ready(code_toggle);\n",
       "        </script>\n",
       "\n",
       "        <form action=\"javascript:code_toggle()\" id=\"button\">\n",
       "            <input type=\"submit\" value=\"Click here to toggle on/off the raw code.\">        </form>\n",
       "\n",
       "        </blockquote>"
      ],
      "text/plain": [
       "<IPython.core.display.HTML object>"
      ]
     },
     "execution_count": 2,
     "metadata": {},
     "output_type": "execute_result"
    }
   ],
   "source": [
    "HTML('''<blockquote>\n",
    "            \n",
    "        <script>\n",
    "            code_show=true;\n",
    "            function code_toggle() {\n",
    "                if (code_show){\n",
    "                     $('div.input').hide();\n",
    "                 } else {\n",
    "                     $('div.input').show();\n",
    "                 }\n",
    "             code_show = !code_show\n",
    "            }\n",
    "            $( document ).ready(code_toggle);\n",
    "        </script>\n",
    "\n",
    "        <form action=\"javascript:code_toggle()\" id=\"button\">\n",
    "            <input type=\"submit\" value=\"Click here to toggle on/off the raw code.\">\\\n",
    "        </form>\n",
    "\n",
    "        </blockquote>''')"
   ]
  },
  {
   "cell_type": "code",
   "execution_count": 4,
   "metadata": {
    "collapsed": false
   },
   "outputs": [
    {
     "data": {
      "text/html": [
       "<blockquote>\n",
       "\n",
       "        <h2> Website Links: </h2>\n",
       "        \n",
       "        <br>\n",
       "        \n",
       "        <select onChange=\"window.location.href=this.value\">\n",
       "           <option value = \"overview.html\">Overview</option>\n",
       "           <option value = \"key_concepts.html\" selected = \"selected\">Key Concepts</option>\n",
       "           <option value = \"simple_anomaly_detection.html\">Simple Anomaly Detection</option>\n",
       "           <option value = \"deterministic_power_martingales.html\">Deterministic Power Martingales</option>\n",
       "           <option value = \"randomized_power_martingales.html\">Randomized Power Martingales</option>\n",
       "           <option value = \"adiabatic_SVM.html\">Adiabatic Iterative Support Vector Machines</option>\n",
       "           <option value = \"conclusion.html\">Conclusion</option>\n",
       "           <option value = \"works_cited.html\">Works Cited</option>\n",
       "           <option value = \"https://snibborevets.github.io/ac209a_anomaly/Stephen_Robbins_Ryan_Lapcevic_AC209a_Poster.pdf\">Poster Presentation</option>\n",
       "        </select>\n",
       "\n",
       "        </blockquote>"
      ],
      "text/plain": [
       "<IPython.core.display.HTML object>"
      ]
     },
     "execution_count": 4,
     "metadata": {},
     "output_type": "execute_result"
    }
   ],
   "source": [
    "HTML('''<blockquote>\n",
    "\n",
    "        <h2> Website Links: </h2>\n",
    "        \n",
    "        <br>\n",
    "        \n",
    "        <select onChange=\"window.location.href=this.value\">\n",
    "           <option value = \"overview.html\">Overview</option>\n",
    "           <option value = \"key_concepts.html\" selected = \"selected\">Key Concepts</option>\n",
    "           <option value = \"simple_anomaly_detection.html\">Simple Anomaly Detection</option>\n",
    "           <option value = \"deterministic_power_martingales.html\">Deterministic Power Martingales</option>\n",
    "           <option value = \"randomized_power_martingales.html\">Randomized Power Martingales</option>\n",
    "           <option value = \"adiabatic_SVM.html\">Adiabatic Iterative Support Vector Machines</option>\n",
    "           <option value = \"conclusion.html\">Conclusion</option>\n",
    "           <option value = \"works_cited.html\">Works Cited</option>\n",
    "           <option value = \"https://snibborevets.github.io/ac209a_anomaly/Stephen_Robbins_Ryan_Lapcevic_AC209a_Poster.pdf\">Poster Presentation</option>\n",
    "        </select>\n",
    "\n",
    "        </blockquote>''')"
   ]
  },
  {
   "cell_type": "markdown",
   "metadata": {},
   "source": [
    "---"
   ]
  },
  {
   "cell_type": "markdown",
   "metadata": {},
   "source": [
    "## Key Concepts\n",
    "\n",
    "- [Time Series and On-line Data](#Time-Series-and-On-line-Data)\n",
    "- [Exchangeability](#Exchangeability)\n",
    "- [Non-Conformity and p-Value](#Non-Conformity-and-p-Value)\n",
    "- [Martingales and Exchangeability](#Martingales-and-Exchangeability)"
   ]
  },
  {
   "cell_type": "markdown",
   "metadata": {},
   "source": [
    "---"
   ]
  },
  {
   "cell_type": "markdown",
   "metadata": {},
   "source": [
    "### Time Series and On-line Data\n"
   ]
  },
  {
   "cell_type": "markdown",
   "metadata": {},
   "source": [
    "A *time series* is a sequence of data points indexed by ordered time. Many datasets fit this description, such as stock market indices, meteorological measurements, and network latency.\n",
    "\n",
    "In many contexts when there is a large amount of data to process over very short periods of time, data must be analyzed *on-line*. This means that one cannot store previously received data for use in an anomaly detection algorithm."
   ]
  },
  {
   "cell_type": "markdown",
   "metadata": {},
   "source": [
    "---"
   ]
  },
  {
   "cell_type": "markdown",
   "metadata": {},
   "source": [
    "### Exchangeability"
   ]
  },
  {
   "cell_type": "markdown",
   "metadata": {},
   "source": [
    "If a sequence of examples $z_1$, $z_2$, · · · , $z_n$ is invariant under any permutation of the indices, the distribution is *exchangeable*.\n",
    "In other words, the probability of the sequences does not change under reordering, i.e. all sequences with the identical occurrence of examples have same probability (i.e. 1/n!)\n",
    "\n",
    "***Example:***\n",
    "\n",
    "Suppose we have a jar with one blue ball (*b*), one red ball (*r*), and one green ball (*g*); and we take the balls out of the jar without replacement. Let $X_1$, $X_2$, and $X_3$ be the sequence by which the balls are drawn."
   ]
  },
  {
   "cell_type": "markdown",
   "metadata": {},
   "source": [
    "<img style=\"float: center;\" src=\"https://snibborevets.github.io/ac209a_anomaly/ball_example.jpg\">"
   ]
  },
  {
   "cell_type": "markdown",
   "metadata": {},
   "source": [
    "* **Independent and Identical Distribution (i.i.d.)**: Consider the scenario where $X_1$, $X_2$, $X_3$ is *b, r, g,* respectively. Clearly this scenario violates independence as once the first ball is drawn ($X_1$, with P(*b*) = 1/3), the probability of drawing a *r* or *g* next ($X_2$, P(*r*) = P(*g*) = 1/2) are dependent on which ball is drawn first (here, $X_1$ = *b*).\n",
    "* **Identical Distribution**: The sequence is identically distributed as P($X_1$, $X_2$, or $X_3$) = *b* is identical to P($X_1$, $X_2$, or $X_3$) = *r* and P($X_1$, $X_2$, or $X_3$) = *g*.\n",
    "* **Exchangeability**: The $X_1$, $X_2$, and $X_3$ sequence is exchangeable as all of the six (3!) permutations of $X_1$, $X_2$, $X_3$ occur with equal probability (1/3! = 1/6). In other words, P($X_1$, $X_2$, $X_3$) = {*b, r, g*} = 1/6. The P($X_1$, $X_2$, $X_3$) = {*g, r, b*} = 1/6. Since every sequence occurs with equal probability, the sequence is exchangeable."
   ]
  },
  {
   "cell_type": "markdown",
   "metadata": {},
   "source": [
    "***Key Takeaways:***\n",
    "\n",
    "* All sequences that are i.i.d. are exchangeable. \n",
    "* All sequences that are exchangeable are not i.i.d., but all exchangeable sequences are identically distributed.\n",
    "* Data sequences containing subset-sequences that violate exchangeability indicate the presence of anomalies in the data."
   ]
  },
  {
   "cell_type": "markdown",
   "metadata": {},
   "source": [
    "---"
   ]
  },
  {
   "cell_type": "markdown",
   "metadata": {},
   "source": [
    "### Non-Conformity and p-Value"
   ]
  },
  {
   "cell_type": "markdown",
   "metadata": {},
   "source": [
    "Put simply, *non-conformity* is a measure by which a given datum does not conform to the existing data set (previously given data).\n",
    "\n",
    "Calculating a *p-value* is one method for determining non-conformity (from [Ferdova](http://icml.cc/2012/papers/808.pdf) paper, as outlined in [Hastie](http://statweb.stanford.edu/~tibs/ElemStatLearn/printings/ESLII_print10.pdf)). Essentially the p-value is determined by computing the ratio between (A) the Euclidian distance of a new datum to its most similar (or the same) index to (B) the Euclidian distance of a new datum to different indices (Ferdova, 3). Non-conformity is high if a new datum is more highly correlated (in terms of Euclidian distance) to non-recent datum received than to more recent datum received.\n",
    "A p-value is low if its non-conformity is high.\n",
    "\n",
    "Our p-value function can be found [here](https://snibborevets.github.io/ac209a_anomaly/deterministic_power_martingales)."
   ]
  },
  {
   "cell_type": "markdown",
   "metadata": {},
   "source": [
    "---"
   ]
  },
  {
   "cell_type": "markdown",
   "metadata": {},
   "source": [
    "### Martingales and Exchangeability"
   ]
  },
  {
   "cell_type": "markdown",
   "metadata": {},
   "source": [
    "An *exchangeability martingale* is “a measure of the degree to which the assumption of exchangeability has been falsified” ([Ferdova](http://icml.cc/2012/papers/808.pdf), 1). A *martingale function* tracks non-conformity and yields a high value when small p-values (or a sequence of small p-values) are generated.\n",
    "\n",
    "Since our data set is received in a sequential order, exchangeability can be assessed every time a new datum is received. The higher degree to which data becomes non-exchangeable due to an additional datum to the data set, the more likely this datum is an anomaly (yield a high value from martingale function).\n",
    "\n",
    "As discussed in [Ferdova](http://icml.cc/2012/papers/808.pdf), a martingale function can be performed on a “shuffled” set of data. Here we would expect a martingale function to decrease with an increasing index. This is because we would expect any datum to be as equally non-conforming as any other datum --- exchangeability is satisfied as each permutation of the shuffled data occurs with equal probability. This is evident by comparing Figures 2 and 4 from [Ferdova](http://icml.cc/2012/papers/808.pdf).   \n"
   ]
  },
  {
   "cell_type": "markdown",
   "metadata": {},
   "source": [
    "---"
   ]
  }
 ],
 "metadata": {
  "anaconda-cloud": {},
  "kernelspec": {
   "display_name": "Python [Root]",
   "language": "python",
   "name": "Python [Root]"
  },
  "language_info": {
   "codemirror_mode": {
    "name": "ipython",
    "version": 2
   },
   "file_extension": ".py",
   "mimetype": "text/x-python",
   "name": "python",
   "nbconvert_exporter": "python",
   "pygments_lexer": "ipython2",
   "version": "2.7.12"
  }
 },
 "nbformat": 4,
 "nbformat_minor": 1
}
