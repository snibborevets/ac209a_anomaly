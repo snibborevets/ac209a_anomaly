{
 "cells": [
  {
   "cell_type": "code",
   "execution_count": 1,
   "metadata": {
    "collapsed": false
   },
   "outputs": [],
   "source": [
    "from IPython.display import HTML"
   ]
  },
  {
   "cell_type": "markdown",
   "metadata": {},
   "source": [
    "<a href = \"https://snibborevets.github.io/ac209a_anomaly/overview\"><img style=\"float: left;\" src=\"https://snibborevets.github.io/ac209a_anomaly/webpage_banner.jpg\"></a>"
   ]
  },
  {
   "cell_type": "code",
   "execution_count": 2,
   "metadata": {
    "collapsed": false,
    "scrolled": true
   },
   "outputs": [
    {
     "data": {
      "text/html": [
       "<blockquote>\n",
       "            \n",
       "        <script>\n",
       "            code_show=true;\n",
       "            function code_toggle() {\n",
       "                if (code_show){\n",
       "                     $('div.input').hide();\n",
       "                 } else {\n",
       "                     $('div.input').show();\n",
       "                 }\n",
       "             code_show = !code_show\n",
       "            }\n",
       "            $( document ).ready(code_toggle);\n",
       "        </script>\n",
       "\n",
       "        <form action=\"javascript:code_toggle()\" id=\"button\">\n",
       "            <input type=\"submit\" value=\"Click here to toggle on/off the raw code.\">        </form>\n",
       "\n",
       "        </blockquote>"
      ],
      "text/plain": [
       "<IPython.core.display.HTML object>"
      ]
     },
     "execution_count": 2,
     "metadata": {},
     "output_type": "execute_result"
    }
   ],
   "source": [
    "HTML('''<blockquote>\n",
    "            \n",
    "        <script>\n",
    "            code_show=true;\n",
    "            function code_toggle() {\n",
    "                if (code_show){\n",
    "                     $('div.input').hide();\n",
    "                 } else {\n",
    "                     $('div.input').show();\n",
    "                 }\n",
    "             code_show = !code_show\n",
    "            }\n",
    "            $( document ).ready(code_toggle);\n",
    "        </script>\n",
    "\n",
    "        <form action=\"javascript:code_toggle()\" id=\"button\">\n",
    "            <input type=\"submit\" value=\"Click here to toggle on/off the raw code.\">\\\n",
    "        </form>\n",
    "\n",
    "        </blockquote>''')"
   ]
  },
  {
   "cell_type": "code",
   "execution_count": 5,
   "metadata": {
    "collapsed": false
   },
   "outputs": [
    {
     "data": {
      "text/html": [
       "<blockquote>\n",
       "\n",
       "        <h2> Website Links: </h2>\n",
       "        \n",
       "        <br>\n",
       "        \n",
       "        <select onChange=\"window.location.href=this.value\">\n",
       "           <option value = \"overview.html\" selected = \"selected\">Overview</option>\n",
       "           <option value = \"key_concepts.html\">Key Concepts</option>\n",
       "           <option value = \"simple_anomaly_detection.html\">Simple Anomaly Detection</option>\n",
       "           <option value = \"deterministic_power_martingales.html\">Deterministic Power Martingales</option>\n",
       "           <option value = \"randomized_power_martingales.html\">Randomized Power Martingales</option>\n",
       "           <option value = \"adiabatic_SVM.html\">Adiabatic Iterative Support Vector Machines</option>\n",
       "           <option value = \"conclusion.html\">Conclusion</option>\n",
       "           <option value = \"works_cited.html\">Works Cited</option>\n",
       "           <option value = \"https://snibborevets.github.io/ac209a_anomaly/Stephen_Robbins_Ryan_Lapcevic_AC209a_Poster.pdf\">Poster Presentation</option>\n",
       "        </select>\n",
       "\n",
       "        </blockquote>"
      ],
      "text/plain": [
       "<IPython.core.display.HTML object>"
      ]
     },
     "execution_count": 5,
     "metadata": {},
     "output_type": "execute_result"
    }
   ],
   "source": [
    "HTML('''<blockquote>\n",
    "\n",
    "        <h2> Website Links: </h2>\n",
    "        \n",
    "        <br>\n",
    "        \n",
    "        <select onChange=\"window.location.href=this.value\">\n",
    "           <option value = \"overview.html\" selected = \"selected\">Overview</option>\n",
    "           <option value = \"key_concepts.html\">Key Concepts</option>\n",
    "           <option value = \"simple_anomaly_detection.html\">Simple Anomaly Detection</option>\n",
    "           <option value = \"deterministic_power_martingales.html\">Deterministic Power Martingales</option>\n",
    "           <option value = \"randomized_power_martingales.html\">Randomized Power Martingales</option>\n",
    "           <option value = \"adiabatic_SVM.html\">Adiabatic Iterative Support Vector Machines</option>\n",
    "           <option value = \"conclusion.html\">Conclusion</option>\n",
    "           <option value = \"works_cited.html\">Works Cited</option>\n",
    "           <option value = \"https://snibborevets.github.io/ac209a_anomaly/Stephen_Robbins_Ryan_Lapcevic_AC209a_Poster.pdf\">Poster Presentation</option>\n",
    "        </select>\n",
    "\n",
    "        </blockquote>''')"
   ]
  },
  {
   "cell_type": "markdown",
   "metadata": {},
   "source": [
    "---"
   ]
  },
  {
   "cell_type": "markdown",
   "metadata": {},
   "source": [
    "## Overview\n",
    "\n",
    "- [Project Objective](#Project-Objective)\n",
    "- [Data Overview](#Data-Overview)\n",
    "- [Algorithm Strategy](#Algorithm-Strategy)\n",
    "- [Results and Conclusion](#Results-and-Conclusion)\n",
    "- [Link to Poster Presentation](#Link-to-Poster-Presentation)"
   ]
  },
  {
   "cell_type": "markdown",
   "metadata": {},
   "source": [
    "---"
   ]
  },
  {
   "cell_type": "markdown",
   "metadata": {},
   "source": [
    "### Project Objective\n"
   ]
  },
  {
   "cell_type": "markdown",
   "metadata": {},
   "source": [
    "***To create an algorithm to detect anomalies on-line for time series data***"
   ]
  },
  {
   "cell_type": "markdown",
   "metadata": {},
   "source": [
    "There are many practical uses for anomaly detection. Quantitative hedge fund analysts write algorithms to detect unusual fluctuations in stock markets, seeking to exploit an arbitrage for profit. Weather analysts detect unusual climate patterns to predict future weather. Network security analysts discover breaches by detecting unusual network activity.\n",
    "\n",
    "In many problem domains it is desirable to analyze data dynamically as they are collected over time. This introduces a number of problems for traditional machine learning algorithms, many of which assume the hypothesis of exchangeability applies to the data set. Many revolved around the concept of exchangability. The principle of exchangeability essentially means that past data are representative of future data and can therefore be used to make inferences. A more detailed discussion of exchangibility can be found [here](https://snibborevets.github.io/ac209a_anomaly/key_concepts.html).\n",
    "\n",
    "Our approach to creating an anomaly detection algorithm consisted of the following:\n",
    "* Analyze [previous research](https://snibborevets.github.io/ac209a_anomaly/works_cited.html) and strategies for detecting anomalies. \n",
    "* Find time-series datasets to run through simple anomaly detection algorithm that utilizes a dataset's derivative\n",
    "* Implement martingale alghorithms provided by Vovk's [\"Testing Exchangeability On-Line\"](http://www.aaai.org/Papers/ICML/2003/ICML03-100.pdf)\n",
    "* Implement algorithm utilizing iterative [support vector machines](https://snibborevets.github.io/ac209a_anomaly/adiabatic_SVM.html)"
   ]
  },
  {
   "cell_type": "markdown",
   "metadata": {},
   "source": [
    "---"
   ]
  },
  {
   "cell_type": "markdown",
   "metadata": {},
   "source": [
    "### Data Overview"
   ]
  },
  {
   "cell_type": "markdown",
   "metadata": {},
   "source": [
    "We sought to find time-series datasets across a broad set of fields. Ideal datasets contain a large sample size (ideally with an n of over 1,000, varying depending on the algorithm being implemented), equally spaced samples over time (i.e. units of time are identical between samples and there are no time \"gaps\"), and samples labelled for anomalous events. \n",
    "\n",
    "There are many sources online for finding clean time-series datasets. A few are listed below:\n",
    "* [DataMarket's Time Series Library](https://datamarket.com/data/list/?q=provider:tsdl)\n",
    "* [UCI Machine Learning Repository](https://archive.ics.uci.edu/ml/datasets.html)\n",
    "* [UCR Time Series Data](http://www.cs.ucr.edu/~eamonn/time_series_data/)\n",
    "* [Links to Several Other Sites](https://www.researchgate.net/post/What_are_anomaly_detection_benchmark_datasets)\n",
    "\n",
    "Only very minor data \"cleaning\" was needed in order to work with the data from the above links. It's also worth noting that  we created artificial datasets to test our algoritms containing obvious anomalous data.\n",
    "\n",
    "Our biggest challenge was finding a dataset that labelled anomalies. As a result we focused on data where known anomalies have taken place. For example, in our poster presentation we showed an anomaly detection algorithm applied to stock market data. This enabled us to see if our algorithm detected known anomalous events, such as the Cuban Missle Crisis, Dot-com Bubble or the Great Recession. The image below is from our poster presentation --- a plot of anomalies in the S&P 500 Index since 1950: "
   ]
  },
  {
   "cell_type": "markdown",
   "metadata": {},
   "source": [
    "<img style=\"float: left;\" src=\"https://snibborevets.github.io/ac209a_anomaly/sp500_poster.jpg\">"
   ]
  },
  {
   "cell_type": "markdown",
   "metadata": {},
   "source": [
    "---"
   ]
  },
  {
   "cell_type": "markdown",
   "metadata": {},
   "source": [
    "### Algorithm Strategy"
   ]
  },
  {
   "cell_type": "markdown",
   "metadata": {},
   "source": [
    "There were several steps needed to create our anomaly detection algorithm. Our method can be best described in the section below from our poster presentation below. NOTE: formulas below provided by Vovk's [\"Testing Exchangeability On-Line\"](http://www.aaai.org/Papers/ICML/2003/ICML03-100.pdf)."
   ]
  },
  {
   "cell_type": "markdown",
   "metadata": {},
   "source": [
    "<img style=\"float: left;\" src=\"https://snibborevets.github.io/ac209a_anomaly/algorithm_flow_chart.jpg\" style=\"width:30px;height:22px;\">"
   ]
  },
  {
   "cell_type": "markdown",
   "metadata": {},
   "source": [
    "---"
   ]
  },
  {
   "cell_type": "markdown",
   "metadata": {},
   "source": [
    "### Results and Conclusion"
   ]
  },
  {
   "cell_type": "markdown",
   "metadata": {},
   "source": [
    "We used several methods for detecting anomalies: simple detection function using a derivative-based algorithm, deterministic and randomized power martingales, and adiabatic iterative support vector machines. Our empirical results suggest that our martingale-based anomaly detection algorithm successfully identifies concept changes (anomalies) in streaming data for each method.\n",
    "\n",
    "While we yielded good results, we would have liked to spend more time revising our strangeness algorithms, specifically the deterministic and randomized power martingales and adiabatic iterative SVM methods. Regarding power martingales, it would have been useful to make our algorithm match exactly that of Vovk's research on USPS data. Furthermore, as seen in the plots on our conclusion page, we may have been able to improve the performance so that it yielded better results than the simple derivative-based algorithm. Regarding adiabatic iterative SVM methods, we were not able to fully implement the algorithm. \n",
    "\n",
    "We also would have liked to explore more methods for determining strangeness of our data. We used the nearest-neighbor and SVM methods, but additional strangeness measures could have been utilized. For example, we could have used the random forest classifier or other decision tree algorithms to determine how strange a given point is compared to previous data received."
   ]
  },
  {
   "cell_type": "markdown",
   "metadata": {},
   "source": [
    "---"
   ]
  },
  {
   "cell_type": "markdown",
   "metadata": {},
   "source": [
    "### Link to Poster Presentation"
   ]
  },
  {
   "cell_type": "markdown",
   "metadata": {},
   "source": [
    "Our poster presention from 12/9/2016 can be found [here](https://snibborevets.github.io/ac209a_anomaly/Stephen_Robbins_Ryan_Lapcevic_AC209a_Poster.pdf)."
   ]
  },
  {
   "cell_type": "markdown",
   "metadata": {},
   "source": [
    "---"
   ]
  }
 ],
 "metadata": {
  "anaconda-cloud": {},
  "kernelspec": {
   "display_name": "Python [Root]",
   "language": "python",
   "name": "Python [Root]"
  },
  "language_info": {
   "codemirror_mode": {
    "name": "ipython",
    "version": 2
   },
   "file_extension": ".py",
   "mimetype": "text/x-python",
   "name": "python",
   "nbconvert_exporter": "python",
   "pygments_lexer": "ipython2",
   "version": "2.7.12"
  }
 },
 "nbformat": 4,
 "nbformat_minor": 1
}
