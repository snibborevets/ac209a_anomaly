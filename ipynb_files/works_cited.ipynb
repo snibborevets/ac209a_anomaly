{
 "cells": [
  {
   "cell_type": "code",
   "execution_count": 1,
   "metadata": {
    "collapsed": false
   },
   "outputs": [],
   "source": [
    "from IPython.display import HTML"
   ]
  },
  {
   "cell_type": "markdown",
   "metadata": {},
   "source": [
    "<a href = \"https://snibborevets.github.io/ac209a_anomaly/overview\"><img style=\"float: left;\" src=\"https://snibborevets.github.io/ac209a_anomaly/webpage_banner.jpg\"></a>"
   ]
  },
  {
   "cell_type": "code",
   "execution_count": 2,
   "metadata": {
    "collapsed": false,
    "scrolled": true
   },
   "outputs": [
    {
     "data": {
      "text/html": [
       "<blockquote>\n",
       "            \n",
       "        <script>\n",
       "            code_show=true;\n",
       "            function code_toggle() {\n",
       "                if (code_show){\n",
       "                     $('div.input').hide();\n",
       "                 } else {\n",
       "                     $('div.input').show();\n",
       "                 }\n",
       "             code_show = !code_show\n",
       "            }\n",
       "            $( document ).ready(code_toggle);\n",
       "        </script>\n",
       "\n",
       "        <form action=\"javascript:code_toggle()\" id=\"button\">\n",
       "            <input type=\"submit\" value=\"Click here to toggle on/off the raw code.\">        </form>\n",
       "\n",
       "        </blockquote>"
      ],
      "text/plain": [
       "<IPython.core.display.HTML object>"
      ]
     },
     "execution_count": 2,
     "metadata": {},
     "output_type": "execute_result"
    }
   ],
   "source": [
    "HTML('''<blockquote>\n",
    "            \n",
    "        <script>\n",
    "            code_show=true;\n",
    "            function code_toggle() {\n",
    "                if (code_show){\n",
    "                     $('div.input').hide();\n",
    "                 } else {\n",
    "                     $('div.input').show();\n",
    "                 }\n",
    "             code_show = !code_show\n",
    "            }\n",
    "            $( document ).ready(code_toggle);\n",
    "        </script>\n",
    "\n",
    "        <form action=\"javascript:code_toggle()\" id=\"button\">\n",
    "            <input type=\"submit\" value=\"Click here to toggle on/off the raw code.\">\\\n",
    "        </form>\n",
    "\n",
    "        </blockquote>''')"
   ]
  },
  {
   "cell_type": "code",
   "execution_count": 3,
   "metadata": {
    "collapsed": false
   },
   "outputs": [
    {
     "data": {
      "text/html": [
       "<blockquote>\n",
       "\n",
       "        <h2> Website Links: </h2>\n",
       "        \n",
       "        <br>\n",
       "        \n",
       "        <select onChange=\"window.location.href=this.value\">\n",
       "           <option value = \"overview.html\">Overview</option>\n",
       "           <option value = \"key_concepts.html\">Key Concepts</option>\n",
       "           <option value = \"simple_anomaly_detection.html\">Simple Anomaly Detection</option>\n",
       "           <option value = \"deterministic_power_martingales.html\">Deterministic Power Martingales</option>\n",
       "           <option value = \"randomized_power_martingales.html\">Randomized Power Martingales</option>\n",
       "           <option value = \"adiabatic_SVM.html\">Adiabatic Iterative Support Vector Machines</option>\n",
       "           <option value = \"conclusion.html\">Conclusion</option>\n",
       "           <option value = \"works_cited.html\" selected = \"selected\">Works Cited</option>\n",
       "           <option value = \"https://snibborevets.github.io/ac209a_anomaly/Stephen_Robbins_Ryan_Lapcevic_AC209a_Poster.pdf\">Poster Presentation</option>\n",
       "        </select>\n",
       "\n",
       "        </blockquote>"
      ],
      "text/plain": [
       "<IPython.core.display.HTML object>"
      ]
     },
     "execution_count": 3,
     "metadata": {},
     "output_type": "execute_result"
    }
   ],
   "source": [
    "HTML('''<blockquote>\n",
    "\n",
    "        <h2> Website Links: </h2>\n",
    "        \n",
    "        <br>\n",
    "        \n",
    "        <select onChange=\"window.location.href=this.value\">\n",
    "           <option value = \"overview.html\">Overview</option>\n",
    "           <option value = \"key_concepts.html\">Key Concepts</option>\n",
    "           <option value = \"simple_anomaly_detection.html\">Simple Anomaly Detection</option>\n",
    "           <option value = \"deterministic_power_martingales.html\">Deterministic Power Martingales</option>\n",
    "           <option value = \"randomized_power_martingales.html\">Randomized Power Martingales</option>\n",
    "           <option value = \"adiabatic_SVM.html\">Adiabatic Iterative Support Vector Machines</option>\n",
    "           <option value = \"conclusion.html\">Conclusion</option>\n",
    "           <option value = \"works_cited.html\" selected = \"selected\">Works Cited</option>\n",
    "           <option value = \"https://snibborevets.github.io/ac209a_anomaly/Stephen_Robbins_Ryan_Lapcevic_AC209a_Poster.pdf\">Poster Presentation</option>\n",
    "        </select>\n",
    "\n",
    "        </blockquote>''')"
   ]
  },
  {
   "cell_type": "markdown",
   "metadata": {},
   "source": [
    "---"
   ]
  },
  {
   "cell_type": "markdown",
   "metadata": {},
   "source": [
    "## Works Cited"
   ]
  },
  {
   "cell_type": "markdown",
   "metadata": {},
   "source": [
    "**AC209A Project Team: Stephen Robbins and Ryan Lapcevic**\n",
    "\n",
    "We relied on the following research to complete our project:\n",
    "* Gert Cauwenberghs and Tomaso Poggio, “Incremental and Decremental Support Vector Machine Learning,” *Advances in Neural Information Processing Systems*, vol. 13, 2001. [Link](http://www.isn.ucsd.edu/pubs/nips00_inc.pdf)\n",
    "* Vladimir Vovk, Ilia Nouretdinov, and Alex J. Gammerman, “Testing Exchangeability Online,” ICML 2003. [Link](http://www.aaai.org/Papers/ICML/2003/ICML03-100.pdf)\n",
    "* Shen-Shyang Ho and Harry Wechsler, “A Martingale Framework for Detecting Changes in Data Streams by Testing Exchangeability,” *Pattern Analysis and Machine Intelligence*, IEEE Transactions, vol.32, no.12, 2113-27, 2010. [Link via Harvard Access](http://ieeexplore.ieee.org.ezp-prod1.hul.harvard.edu/stamp/stamp.jsp?arnumber=5432193)\n",
    "* Valentina Fedorova, Alex J. Gammerman, Ilia Nouretdinov, Vladimir Vovk, “Plug-in Martingales for Testing Exchangeability On-line,\" ICML 2012. [Link](http://icml.cc/2012/papers/808.pdf)\n",
    "* Trevor Hastie, Robert Tibshirani, and Jerome Friedman. *The Elements of Statistical Learning: Data Mining, Inference, and Prediction*. Springer-Verlag, 2001. [Link](http://statweb.stanford.edu/~tibs/ElemStatLearn/printings/ESLII_print10.pdf)\n"
   ]
  },
  {
   "cell_type": "markdown",
   "metadata": {},
   "source": [
    "---"
   ]
  }
 ],
 "metadata": {
  "anaconda-cloud": {},
  "kernelspec": {
   "display_name": "Python [Root]",
   "language": "python",
   "name": "Python [Root]"
  },
  "language_info": {
   "codemirror_mode": {
    "name": "ipython",
    "version": 2
   },
   "file_extension": ".py",
   "mimetype": "text/x-python",
   "name": "python",
   "nbconvert_exporter": "python",
   "pygments_lexer": "ipython2",
   "version": "2.7.12"
  }
 },
 "nbformat": 4,
 "nbformat_minor": 1
}
