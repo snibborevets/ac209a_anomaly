{
 "cells": [
  {
   "cell_type": "code",
   "execution_count": 5,
   "metadata": {
    "collapsed": false
   },
   "outputs": [
    {
     "name": "stderr",
     "output_type": "stream",
     "text": [
      "/Users/ryanlapcevic/anaconda3/envs/py27/lib/python2.7/site-packages/matplotlib/font_manager.py:273: UserWarning: Matplotlib is building the font cache using fc-list. This may take a moment.\n",
      "  warnings.warn('Matplotlib is building the font cache using fc-list. This may take a moment.')\n"
     ]
    }
   ],
   "source": [
    "import matplotlib.pyplot as plt\n",
    "import numpy as np\n",
    "import pandas as pd\n",
    "import sklearn as sk\n",
    "\n",
    "%matplotlib inline"
   ]
  },
  {
   "cell_type": "code",
   "execution_count": 7,
   "metadata": {
    "collapsed": false
   },
   "outputs": [],
   "source": [
    "df = pd.read_csv('./SPX_010350_120516.csv')"
   ]
  },
  {
   "cell_type": "code",
   "execution_count": 8,
   "metadata": {
    "collapsed": false,
    "scrolled": true
   },
   "outputs": [
    {
     "data": {
      "text/html": [
       "<div>\n",
       "<table border=\"1\" class=\"dataframe\">\n",
       "  <thead>\n",
       "    <tr style=\"text-align: right;\">\n",
       "      <th></th>\n",
       "      <th>Date</th>\n",
       "      <th>Open</th>\n",
       "      <th>High</th>\n",
       "      <th>Low</th>\n",
       "      <th>Close</th>\n",
       "      <th>Volume</th>\n",
       "      <th>Adj Close</th>\n",
       "    </tr>\n",
       "  </thead>\n",
       "  <tbody>\n",
       "    <tr>\n",
       "      <th>0</th>\n",
       "      <td>12/2/2016</td>\n",
       "      <td>2191.120117</td>\n",
       "      <td>2197.949951</td>\n",
       "      <td>2188.370117</td>\n",
       "      <td>2191.949951</td>\n",
       "      <td>3779500000</td>\n",
       "      <td>2191.949951</td>\n",
       "    </tr>\n",
       "    <tr>\n",
       "      <th>1</th>\n",
       "      <td>12/1/2016</td>\n",
       "      <td>2200.169922</td>\n",
       "      <td>2202.600098</td>\n",
       "      <td>2187.439941</td>\n",
       "      <td>2191.080078</td>\n",
       "      <td>5063740000</td>\n",
       "      <td>2191.080078</td>\n",
       "    </tr>\n",
       "    <tr>\n",
       "      <th>2</th>\n",
       "      <td>11/30/2016</td>\n",
       "      <td>2204.969971</td>\n",
       "      <td>2214.100098</td>\n",
       "      <td>2198.810059</td>\n",
       "      <td>2198.810059</td>\n",
       "      <td>5533980000</td>\n",
       "      <td>2198.810059</td>\n",
       "    </tr>\n",
       "    <tr>\n",
       "      <th>3</th>\n",
       "      <td>11/29/2016</td>\n",
       "      <td>2200.760010</td>\n",
       "      <td>2210.459961</td>\n",
       "      <td>2198.149902</td>\n",
       "      <td>2204.659912</td>\n",
       "      <td>3706560000</td>\n",
       "      <td>2204.659912</td>\n",
       "    </tr>\n",
       "    <tr>\n",
       "      <th>4</th>\n",
       "      <td>11/28/2016</td>\n",
       "      <td>2210.209961</td>\n",
       "      <td>2211.139893</td>\n",
       "      <td>2200.360107</td>\n",
       "      <td>2201.719971</td>\n",
       "      <td>3505650000</td>\n",
       "      <td>2201.719971</td>\n",
       "    </tr>\n",
       "  </tbody>\n",
       "</table>\n",
       "</div>"
      ],
      "text/plain": [
       "         Date         Open         High          Low        Close      Volume  \\\n",
       "0   12/2/2016  2191.120117  2197.949951  2188.370117  2191.949951  3779500000   \n",
       "1   12/1/2016  2200.169922  2202.600098  2187.439941  2191.080078  5063740000   \n",
       "2  11/30/2016  2204.969971  2214.100098  2198.810059  2198.810059  5533980000   \n",
       "3  11/29/2016  2200.760010  2210.459961  2198.149902  2204.659912  3706560000   \n",
       "4  11/28/2016  2210.209961  2211.139893  2200.360107  2201.719971  3505650000   \n",
       "\n",
       "     Adj Close  \n",
       "0  2191.949951  \n",
       "1  2191.080078  \n",
       "2  2198.810059  \n",
       "3  2204.659912  \n",
       "4  2201.719971  "
      ]
     },
     "execution_count": 8,
     "metadata": {},
     "output_type": "execute_result"
    }
   ],
   "source": [
    "df.head()"
   ]
  },
  {
   "cell_type": "code",
   "execution_count": 7,
   "metadata": {
    "collapsed": false
   },
   "outputs": [
    {
     "data": {
      "text/plain": [
       "(16840, 7)"
      ]
     },
     "execution_count": 7,
     "metadata": {},
     "output_type": "execute_result"
    }
   ],
   "source": [
    "df.shape"
   ]
  },
  {
   "cell_type": "code",
   "execution_count": 9,
   "metadata": {
    "collapsed": false
   },
   "outputs": [
    {
     "data": {
      "text/plain": [
       "'1/10/1950'"
      ]
     },
     "execution_count": 9,
     "metadata": {},
     "output_type": "execute_result"
    }
   ],
   "source": [
    "df['Date'].min()"
   ]
  },
  {
   "cell_type": "code",
   "execution_count": 40,
   "metadata": {
    "collapsed": false
   },
   "outputs": [
    {
     "data": {
      "text/plain": [
       "'9/9/2016'"
      ]
     },
     "execution_count": 40,
     "metadata": {},
     "output_type": "execute_result"
    }
   ],
   "source": [
    "df['Date'].max()"
   ]
  },
  {
   "cell_type": "code",
   "execution_count": 10,
   "metadata": {
    "collapsed": false,
    "scrolled": true
   },
   "outputs": [
    {
     "data": {
      "image/png": "[encoded data removed]",
      "text/plain": [
       "<matplotlib.figure.Figure at 0x112c894d0>"
      ]
     },
     "metadata": {},
     "output_type": "display_data"
    }
   ],
   "source": [
    "plt.plot(pd.to_datetime(df['Date']), df['Adj Close']);"
   ]
  },
  {
   "cell_type": "code",
   "execution_count": 2,
   "metadata": {
    "collapsed": true
   },
   "outputs": [],
   "source": [
    "from luminol import *"
   ]
  },
  {
   "cell_type": "code",
   "execution_count": 3,
   "metadata": {
    "collapsed": false
   },
   "outputs": [],
   "source": [
    "from luminol.modules.time_series import TimeSeries"
   ]
  },
  {
   "cell_type": "code",
   "execution_count": 4,
   "metadata": {
    "collapsed": false
   },
   "outputs": [
    {
     "ename": "NameError",
     "evalue": "name 'df' is not defined",
     "output_type": "error",
     "traceback": [
      "\u001b[0;31m---------------------------------------------------------------------------\u001b[0m",
      "\u001b[0;31mNameError\u001b[0m                                 Traceback (most recent call last)",
      "\u001b[0;32m<ipython-input-4-242893211113>\u001b[0m in \u001b[0;36m<module>\u001b[0;34m()\u001b[0m\n\u001b[0;32m----> 1\u001b[0;31m \u001b[0mtslist\u001b[0m \u001b[0;34m=\u001b[0m \u001b[0mreversed\u001b[0m\u001b[0;34m(\u001b[0m\u001b[0mdf\u001b[0m\u001b[0;34m.\u001b[0m\u001b[0mix\u001b[0m\u001b[0;34m[\u001b[0m\u001b[0;34m:\u001b[0m\u001b[0;34m,\u001b[0m\u001b[0;34m[\u001b[0m\u001b[0;36m0\u001b[0m\u001b[0;34m,\u001b[0m\u001b[0;34m-\u001b[0m\u001b[0;36m1\u001b[0m\u001b[0;34m]\u001b[0m\u001b[0;34m]\u001b[0m\u001b[0;34m.\u001b[0m\u001b[0mvalues\u001b[0m\u001b[0;34m)\u001b[0m\u001b[0;34m\u001b[0m\u001b[0m\n\u001b[0m\u001b[1;32m      2\u001b[0m \u001b[0mtsdict\u001b[0m \u001b[0;34m=\u001b[0m \u001b[0;34m{\u001b[0m\u001b[0;34m}\u001b[0m\u001b[0;34m\u001b[0m\u001b[0m\n\u001b[1;32m      3\u001b[0m \u001b[0mi\u001b[0m \u001b[0;34m=\u001b[0m \u001b[0;36m0\u001b[0m\u001b[0;34m\u001b[0m\u001b[0m\n\u001b[1;32m      4\u001b[0m \u001b[0;32mfor\u001b[0m \u001b[0mrow\u001b[0m \u001b[0;32min\u001b[0m \u001b[0mtslist\u001b[0m\u001b[0;34m:\u001b[0m\u001b[0;34m\u001b[0m\u001b[0m\n\u001b[1;32m      5\u001b[0m     \u001b[0mtsdict\u001b[0m\u001b[0;34m[\u001b[0m\u001b[0mi\u001b[0m\u001b[0;34m]\u001b[0m \u001b[0;34m=\u001b[0m \u001b[0mfloat\u001b[0m\u001b[0;34m(\u001b[0m\u001b[0mrow\u001b[0m\u001b[0;34m[\u001b[0m\u001b[0;36m1\u001b[0m\u001b[0;34m]\u001b[0m\u001b[0;34m)\u001b[0m\u001b[0;34m\u001b[0m\u001b[0m\n",
      "\u001b[0;31mNameError\u001b[0m: name 'df' is not defined"
     ]
    }
   ],
   "source": [
    "tslist = reversed(df.ix[:,[0,-1]].values)\n",
    "tsdict = {}\n",
    "i = 0\n",
    "for row in tslist:\n",
    "    tsdict[i] = float(row[1])\n",
    "    i += 1"
   ]
  },
  {
   "cell_type": "code",
   "execution_count": 110,
   "metadata": {
    "collapsed": false,
    "scrolled": true
   },
   "outputs": [],
   "source": [
    "ts = TimeSeries(tsdict)"
   ]
  },
  {
   "cell_type": "code",
   "execution_count": 111,
   "metadata": {
    "collapsed": true
   },
   "outputs": [],
   "source": [
    "from luminol.anomaly_detector import AnomalyDetector"
   ]
  },
  {
   "cell_type": "code",
   "execution_count": 112,
   "metadata": {
    "collapsed": false
   },
   "outputs": [
    {
     "data": {
      "text/plain": [
       "TimeSeries<start=0, end=16839>"
      ]
     },
     "execution_count": 112,
     "metadata": {},
     "output_type": "execute_result"
    }
   ],
   "source": [
    "ts"
   ]
  },
  {
   "cell_type": "code",
   "execution_count": 1,
   "metadata": {
    "collapsed": false
   },
   "outputs": [
    {
     "ename": "NameError",
     "evalue": "name 'AnomalyDetector' is not defined",
     "output_type": "error",
     "traceback": [
      "\u001b[0;31m---------------------------------------------------------------------------\u001b[0m",
      "\u001b[0;31mNameError\u001b[0m                                 Traceback (most recent call last)",
      "\u001b[0;32m<ipython-input-1-22dca18dd68f>\u001b[0m in \u001b[0;36m<module>\u001b[0;34m()\u001b[0m\n\u001b[0;32m----> 1\u001b[0;31m \u001b[0mad\u001b[0m \u001b[0;34m=\u001b[0m \u001b[0mAnomalyDetector\u001b[0m\u001b[0;34m(\u001b[0m\u001b[0mts\u001b[0m\u001b[0;34m,\u001b[0m \u001b[0malgorithm_name\u001b[0m\u001b[0;34m=\u001b[0m\u001b[0;34m'derivative_detector'\u001b[0m\u001b[0;34m,\u001b[0m \u001b[0malgorithm_params\u001b[0m\u001b[0;34m=\u001b[0m\u001b[0;34m{\u001b[0m\u001b[0;34m'smoothing factor'\u001b[0m\u001b[0;34m:\u001b[0m \u001b[0;36m0.2\u001b[0m\u001b[0;34m}\u001b[0m\u001b[0;34m)\u001b[0m\u001b[0;34m\u001b[0m\u001b[0m\n\u001b[0m",
      "\u001b[0;31mNameError\u001b[0m: name 'AnomalyDetector' is not defined"
     ]
    }
   ],
   "source": [
    "ad = AnomalyDetector(ts, algorithm_name='derivative_detector', algorithm_params={'smoothing factor': 0.2})"
   ]
  },
  {
   "cell_type": "code",
   "execution_count": 114,
   "metadata": {
    "collapsed": false
   },
   "outputs": [],
   "source": [
    "anoms = ad.get_anomalies()"
   ]
  },
  {
   "cell_type": "code",
   "execution_count": 106,
   "metadata": {
    "collapsed": false
   },
   "outputs": [
    {
     "name": "stdout",
     "output_type": "stream",
     "text": [
      "11/8/2016-11/8/2016-3.73062557811\n",
      "11/4/2016-11/4/2016-7.73528235353\n",
      "10/10/2016-10/10/2016-4.49941332272\n",
      "9/19/2016-9/19/2016-3.07408213819\n",
      "9/6/2016-9/12/2016-7.4324767673\n",
      "8/4/2016-8/4/2016-2.9055224573\n",
      "7/7/2016-7/7/2016-5.1625806796\n",
      "6/23/2016-6/29/2016-10.698955893\n",
      "6/20/2016-6/21/2016-6.19439892366\n",
      "6/16/2016-6/16/2016-2.91173134221\n",
      "5/23/2016-5/23/2016-4.31664744902\n",
      "4/12/2016-4/12/2016-3.1575755956\n",
      "4/6/2016-4/6/2016-3.28335522841\n",
      "3/10/2016-3/10/2016-5.35234095218\n",
      "2/29/2016-2/29/2016-7.74698914925\n",
      "2/18/2016-2/18/2016-3.79751317124\n",
      "2/11/2016-2/16/2016-3.67047961779\n",
      "2/8/2016-2/9/2016-4.69150976704\n",
      "2/3/2016-2/4/2016-3.75175729834\n",
      "1/28/2016-2/1/2016-6.39136566158\n",
      "1/20/2016-1/21/2016-3.39241969615\n",
      "1/14/2016-1/15/2016-4.82161545847\n",
      "1/8/2016-1/12/2016-5.16277106146\n",
      "1/6/2016-1/6/2016-5.33732778552\n",
      "1/4/2016-1/4/2016-4.67160104281\n",
      "12/23/2015-12/24/2015-3.52894596101\n",
      "12/17/2015-12/17/2015-4.02089130537\n",
      "12/9/2015-12/11/2015-4.16261337592\n",
      "12/3/2015-12/3/2015-5.05625003925\n",
      "11/24/2015-11/27/2015-4.05085894705\n",
      "11/17/2015-11/17/2015-5.24264821367\n",
      "11/13/2015-11/13/2015-3.9960078509\n",
      "11/5/2015-11/5/2015-2.99602886114\n",
      "10/30/2015-10/30/2015-3.26864769956\n",
      "10/27/2015-10/27/2015-3.09753588519\n",
      "10/21/2015-10/21/2015-4.42400653102\n",
      "10/14/2015-10/14/2015-4.01234348653\n",
      "10/2/2015-10/2/2015-5.1335500567\n",
      "9/24/2015-9/30/2015-6.9592044045\n",
      "9/17/2015-9/17/2015-3.69413436441\n",
      "9/4/2015-9/8/2015-6.62429807546\n",
      "8/31/2015-9/2/2015-7.37437226145\n",
      "8/25/2015-8/27/2015-9.51008925104\n",
      "8/20/2015-8/21/2015-9.04124705291\n",
      "8/11/2015-8/18/2015-7.30128973083\n",
      "7/27/2015-7/27/2015-3.35674346829\n",
      "7/9/2015-7/10/2015-3.01380144187\n",
      "7/7/2015-7/7/2015-4.65082372658\n",
      "7/1/2015-7/1/2015-2.83931033551\n",
      "6/25/2015-6/26/2015-6.8580397386\n",
      "6/9/2015-6/9/2015-3.08394399469\n",
      "5/13/2015-5/13/2015-3.51550579291\n",
      "5/7/2015-5/7/2015-4.19741468878\n",
      "5/4/2015-5/4/2015-2.96411862382\n",
      "3/27/2015-3/27/2015-3.04464159517\n",
      "3/24/2015-3/24/2015-4.16294932684\n",
      "3/13/2015-3/13/2015-2.9490070259\n",
      "3/9/2015-3/10/2015-4.22440303971\n",
      "3/4/2015-3/4/2015-3.50719886798\n",
      "2/11/2015-2/11/2015-2.9483033689\n",
      "2/9/2015-2/9/2015-3.10661769738\n",
      "2/2/2015-2/2/2015-3.79187988757\n",
      "1/23/2015-1/23/2015-3.4533225613\n",
      "1/21/2015-1/21/2015-2.88353659795\n",
      "1/16/2015-1/16/2015-3.05314782255\n",
      "1/7/2015-1/7/2015-4.37182403419\n",
      "12/31/2014-1/2/2015-4.69056124814\n",
      "12/26/2014-12/26/2014-3.25728090681\n",
      "12/16/2014-12/17/2014-8.18164588465\n",
      "12/11/2014-12/11/2014-2.90888585654\n",
      "12/8/2014-12/9/2014-4.49416885874\n",
      "12/4/2014-12/4/2014-2.86668357887\n",
      "10/30/2014-10/30/2014-3.91393103122\n",
      "10/27/2014-10/27/2014-3.23191679799\n",
      "10/20/2014-10/20/2014-4.99864894587\n",
      "10/15/2014-10/15/2014-3.90278148741\n",
      "10/10/2014-10/10/2014-3.85150037776\n",
      "10/8/2014-10/8/2014-4.77899659311\n",
      "10/3/2014-10/3/2014-4.67151313058\n",
      "10/1/2014-10/1/2014-4.40076979432\n",
      "9/24/2014-9/24/2014-3.69250753409\n",
      "9/18/2014-9/18/2014-3.18445545183\n",
      "8/7/2014-8/7/2014-3.16744758754\n",
      "7/29/2014-7/30/2014-6.13917705611\n",
      "7/16/2014-7/16/2014-2.87172468918\n",
      "4/9/2014-4/9/2014-5.64902044261\n",
      "4/2/2014-4/2/2014-3.29192662553\n",
      "3/3/2014-3/3/2014-4.81635388191\n",
      "2/6/2014-2/6/2014-3.24193819749\n",
      "1/31/2014-1/31/2014-6.01761531799\n",
      "1/23/2014-1/23/2014-4.89690618671\n",
      "1/21/2014-1/21/2014-3.66280969038\n",
      "12/17/2013-12/17/2013-4.93461277762\n",
      "11/7/2013-11/7/2013-3.55249771884\n",
      "10/15/2013-10/15/2013-3.17500384743\n",
      "10/8/2013-10/9/2013-5.31634186381\n",
      "8/26/2013-8/26/2013-4.19030860358\n",
      "8/14/2013-8/14/2013-3.22815993101\n",
      "7/31/2013-7/31/2013-3.14866840981\n",
      "7/10/2013-7/10/2013-3.66450878468\n",
      "6/19/2013-6/19/2013-6.27317569478\n",
      "6/7/2013-6/7/2013-3.21578846017\n",
      "4/11/2013-4/12/2013-4.63785212297\n",
      "2/26/2013-2/26/2013-2.89432221134\n",
      "2/22/2013-2/22/2013-4.0709359295\n",
      "12/31/2012-12/31/2012-6.55862031192\n",
      "11/16/2012-11/16/2012-4.39599288601\n",
      "11/6/2012-11/6/2012-5.25813400453\n",
      "10/22/2012-10/22/2012-2.8966754294\n",
      "10/18/2012-10/18/2012-3.40099424187\n",
      "9/12/2012-9/12/2012-3.93944600281\n",
      "9/5/2012-9/5/2012-4.53368379999\n",
      "8/2/2012-8/2/2012-4.71465678767\n",
      "7/26/2012-7/26/2012-4.16869685428\n",
      "6/28/2012-6/28/2012-5.37174395888\n",
      "6/20/2012-6/20/2012-3.8504193009\n",
      "6/5/2012-6/5/2012-4.05562022559\n",
      "5/31/2012-5/31/2012-4.59292240847\n",
      "5/18/2012-5/18/2012-2.92505353013\n",
      "5/3/2012-5/3/2012-3.31140982653\n",
      "4/16/2012-4/16/2012-2.86024184532\n",
      "3/12/2012-3/12/2012-4.06263161848\n",
      "2/2/2012-2/2/2012-3.20277935185\n",
      "12/30/2011-12/30/2011-3.2601359245\n",
      "12/19/2011-12/19/2011-5.90564912174\n",
      "12/6/2011-12/6/2011-2.91245251568\n",
      "11/23/2011-11/29/2011-9.09375321629\n",
      "11/17/2011-11/17/2011-3.28940937862\n",
      "11/8/2011-11/8/2011-6.67093887594\n",
      "10/31/2011-10/31/2011-3.61621397105\n",
      "10/26/2011-10/27/2011-4.96206652381\n",
      "10/19/2011-10/19/2011-3.27125083608\n",
      "10/12/2011-10/12/2011-3.43157336092\n",
      "10/7/2011-10/10/2011-5.53223176088\n",
      "9/28/2011-9/28/2011-2.88640510951\n",
      "9/21/2011-9/22/2011-3.96686235666\n",
      "9/19/2011-9/19/2011-4.68754881985\n",
      "9/8/2011-9/8/2011-3.66068775972\n",
      "9/6/2011-9/6/2011-3.48407810516\n",
      "8/26/2011-8/26/2011-4.05347693087\n",
      "8/19/2011-8/22/2011-4.4125840698\n",
      "8/16/2011-8/17/2011-7.46961620535\n",
      "8/2/2011-8/10/2011-9.48123575298\n",
      "7/27/2011-7/29/2011-5.76681773502\n",
      "7/25/2011-7/25/2011-3.27572920805\n",
      "7/21/2011-7/21/2011-3.06965909004\n",
      "7/8/2011-7/8/2011-3.18469104933\n",
      "6/14/2011-6/14/2011-3.01445560602\n",
      "5/31/2011-5/31/2011-4.63450718758\n",
      "3/15/2011-3/15/2011-3.19936175848\n",
      "2/18/2011-2/18/2011-3.70592609066\n",
      "1/31/2011-1/31/2011-3.45662891575\n",
      "1/27/2011-1/27/2011-3.05636608792\n",
      "11/30/2010-11/30/2010-4.13646519366\n",
      "11/3/2010-11/3/2010-3.38243057523\n",
      "10/18/2010-10/18/2010-2.8750194321\n",
      "10/4/2010-10/4/2010-4.10338887116\n",
      "9/23/2010-9/23/2010-3.69820347598\n",
      "8/31/2010-8/31/2010-4.54496295178\n",
      "8/10/2010-8/10/2010-5.13039114159\n",
      "7/30/2010-7/30/2010-3.61967652493\n",
      "7/21/2010-7/21/2010-3.37893619832\n",
      "7/15/2010-7/15/2010-4.34341254524\n",
      "7/6/2010-7/6/2010-4.81121700951\n",
      "6/28/2010-6/28/2010-4.96335086366\n",
      "6/14/2010-6/14/2010-4.12266748031\n",
      "6/9/2010-6/9/2010-4.91179862955\n",
      "6/3/2010-6/3/2010-5.42867940248\n",
      "5/24/2010-5/26/2010-3.82197492431\n",
      "5/18/2010-5/19/2010-6.01268783936\n",
      "5/14/2010-5/14/2010-3.2922427488\n",
      "5/7/2010-5/7/2010-7.41940594954\n",
      "5/4/2010-5/5/2010-3.74951827696\n",
      "4/23/2010-4/23/2010-2.93213649285\n",
      "2/12/2010-2/12/2010-2.8949694245\n",
      "2/3/2010-2/3/2010-5.56993698737\n",
      "1/21/2010-1/21/2010-3.31305652895\n",
      "11/6/2009-11/6/2009-3.64345779278\n",
      "10/29/2009-10/29/2009-4.68292244818\n",
      "9/30/2009-9/30/2009-3.82806916045\n",
      "8/31/2009-8/31/2009-3.11471610811\n",
      "8/20/2009-8/20/2009-3.00192577166\n",
      "8/14/2009-8/14/2009-3.36351369878\n",
      "7/22/2009-7/22/2009-3.55137712392\n",
      "7/14/2009-7/14/2009-4.27549223455\n",
      "7/1/2009-7/1/2009-3.9345237104\n",
      "6/19/2009-6/19/2009-4.22429123484\n",
      "6/12/2009-6/12/2009-2.86129447595\n",
      "5/29/2009-5/29/2009-3.60602007487\n",
      "5/15/2009-5/15/2009-3.68607131669\n",
      "5/1/2009-5/1/2009-3.59569362879\n",
      "4/17/2009-4/17/2009-5.38087204944\n",
      "4/8/2009-4/8/2009-4.09903346067\n",
      "3/27/2009-3/27/2009-3.06239712061\n",
      "3/20/2009-3/20/2009-8.05421776413\n",
      "3/13/2009-3/13/2009-3.57823387128\n",
      "3/9/2009-3/11/2009-5.98595809773\n",
      "3/4/2009-3/5/2009-3.43059896778\n",
      "2/27/2009-2/27/2009-4.07687995027\n",
      "2/23/2009-2/23/2009-3.00075153369\n",
      "2/13/2009-2/17/2009-5.1164586131\n",
      "2/11/2009-2/11/2009-3.02430163969\n",
      "2/6/2009-2/9/2009-6.41710674963\n",
      "1/28/2009-1/28/2009-3.37488952387\n",
      "1/14/2009-1/20/2009-5.81580305873\n",
      "1/12/2009-1/12/2009-3.48771232422\n",
      "1/6/2009-1/6/2009-2.92441124548\n",
      "12/31/2008-12/31/2008-3.27514775552\n",
      "12/15/2008-12/15/2008-6.97862158944\n",
      "12/5/2008-12/5/2008-3.54932886521\n",
      "11/26/2008-11/28/2008-11.4966296841\n",
      "11/17/2008-11/24/2008-6.75888455031\n",
      "11/12/2008-11/12/2008-5.34295744658\n",
      "11/7/2008-11/10/2008-5.04345661005\n",
      "11/4/2008-11/5/2008-3.9923888751\n",
      "10/30/2008-10/31/2008-7.36828495761\n",
      "10/27/2008-10/28/2008-14.1078886154\n",
      "10/21/2008-10/22/2008-5.88870553096\n",
      "10/16/2008-10/16/2008-6.37197241407\n",
      "10/6/2008-10/14/2008-14.1320202222\n",
      "10/2/2008-10/2/2008-6.099396286\n",
      "9/23/2008-9/30/2008-14.1680952057\n",
      "9/8/2008-9/19/2008-8.22954795269\n",
      "8/29/2008-9/4/2008-5.0513275331\n",
      "8/7/2008-8/7/2008-4.10241657171\n",
      "8/4/2008-8/4/2008-4.57979986578\n",
      "7/24/2008-7/24/2008-3.02722764127\n",
      "7/22/2008-7/22/2008-2.95749279687\n",
      "7/18/2008-7/18/2008-3.31870564732\n",
      "7/15/2008-7/15/2008-3.89604809287\n",
      "7/8/2008-7/8/2008-3.30396967453\n",
      "7/2/2008-7/2/2008-3.02414506941\n",
      "6/25/2008-6/25/2008-6.06771341947\n",
      "6/19/2008-6/19/2008-3.19777708553\n",
      "6/5/2008-6/5/2008-7.19794652285\n",
      "6/3/2008-6/3/2008-3.61357190829\n",
      "5/6/2008-5/6/2008-3.62503752161\n",
      "4/30/2008-4/30/2008-2.99551143891\n",
      "4/17/2008-4/17/2008-3.64548584935\n",
      "4/15/2008-4/15/2008-4.46909657923\n",
      "4/10/2008-4/10/2008-3.62889587459\n",
      "3/31/2008-3/31/2008-8.67595859695\n",
      "3/14/2008-3/19/2008-7.17462168287\n",
      "3/12/2008-3/12/2008-3.64176384328\n",
      "3/10/2008-3/10/2008-5.87295332686\n",
      "2/28/2008-3/4/2008-4.89899048946\n",
      "2/26/2008-2/26/2008-3.26349462953\n",
      "2/4/2008-2/4/2008-7.06873438048\n",
      "1/16/2008-1/16/2008-4.98625196539\n",
      "1/14/2008-1/14/2008-3.56264228167\n",
      "1/2/2008-1/4/2008-4.27532342946\n",
      "12/27/2007-12/27/2007-2.85255133248\n",
      "12/10/2007-12/10/2007-5.61421210446\n",
      "11/27/2007-11/27/2007-6.23047607473\n",
      "11/23/2007-11/23/2007-3.29154279196\n",
      "11/19/2007-11/19/2007-3.17269680868\n",
      "11/12/2007-11/12/2007-5.27950520635\n",
      "11/6/2007-11/7/2007-5.85862586888\n",
      "10/31/2007-11/2/2007-5.3718304117\n",
      "10/24/2007-10/24/2007-3.12261861059\n",
      "10/17/2007-10/18/2007-5.97424572848\n",
      "9/28/2007-9/28/2007-2.83432231674\n",
      "9/17/2007-9/17/2007-7.31637679465\n",
      "9/6/2007-9/6/2007-3.26841322495\n",
      "8/27/2007-8/28/2007-3.99543116087\n",
      "8/22/2007-8/22/2007-3.40583690368\n",
      "8/16/2007-8/16/2007-5.11365341373\n",
      "8/10/2007-8/10/2007-3.3141949816\n",
      "8/8/2007-8/8/2007-6.94952235135\n",
      "8/1/2007-8/3/2007-3.96262935926\n",
      "7/24/2007-7/25/2007-3.42091897201\n",
      "7/20/2007-7/20/2007-2.90458584667\n",
      "7/11/2007-7/11/2007-4.24386860128\n",
      "6/12/2007-6/12/2007-2.97558878204\n",
      "6/6/2007-6/6/2007-3.1625673565\n",
      "5/9/2007-5/9/2007-2.90635652229\n",
      "3/20/2007-3/20/2007-4.16716929867\n",
      "3/12/2007-3/12/2007-4.23275134198\n",
      "2/23/2007-2/26/2007-8.4026629006\n",
      "7/21/2006-7/21/2006-3.11212984205\n",
      "7/18/2006-7/18/2006-2.88049849351\n",
      "6/28/2006-6/28/2006-4.13951877562\n",
      "6/14/2006-6/14/2006-3.94924782904\n",
      "6/2/2006-6/2/2006-3.292915417\n",
      "5/16/2006-5/16/2006-2.90435504191\n",
      "4/17/2006-4/17/2006-3.88117123916\n",
      "1/19/2006-1/19/2006-3.92394781796\n",
      "12/30/2005-12/30/2005-3.23103754768\n",
      "4/20/2005-4/20/2005-2.88877518861\n",
      "11/3/2004-11/3/2004-2.96110493047\n",
      "9/30/2003-9/30/2003-3.57936023256\n",
      "6/13/2003-6/13/2003-3.34414496782\n",
      "5/16/2003-5/16/2003-3.72731388112\n",
      "4/1/2003-4/1/2003-3.54264031222\n",
      "3/21/2003-3/21/2003-4.93176291453\n",
      "3/14/2003-3/14/2003-4.18451990927\n",
      "3/12/2003-3/12/2003-3.47074958437\n",
      "1/23/2003-1/23/2003-3.16130989271\n",
      "12/31/2002-12/31/2002-4.17230296166\n",
      "11/26/2002-11/26/2002-3.84410936027\n",
      "10/14/2002-10/14/2002-5.44773369225\n",
      "10/10/2002-10/10/2002-3.1362939103\n",
      "9/30/2002-9/30/2002-3.17265103307\n",
      "9/19/2002-9/19/2002-3.1426810241\n",
      "8/28/2002-8/30/2002-5.39437986334\n",
      "8/13/2002-8/13/2002-4.87102173664\n",
      "8/7/2002-8/7/2002-3.37341383256\n",
      "7/26/2002-7/29/2002-6.25488668316\n",
      "7/23/2002-7/24/2002-5.8994830366\n",
      "7/16/2002-7/16/2002-4.24533521343\n",
      "7/12/2002-7/12/2002-3.55073550172\n",
      "7/9/2002-7/9/2002-3.95232033108\n",
      "7/2/2002-7/3/2002-3.69511593831\n",
      "6/27/2002-6/27/2002-3.75679948963\n",
      "6/14/2002-6/14/2002-3.66241928749\n",
      "5/31/2002-5/31/2002-3.71790423334\n",
      "5/13/2002-5/13/2002-2.86311040336\n",
      "5/6/2002-5/7/2002-5.1507288247\n",
      "5/1/2002-5/1/2002-2.91319569417\n",
      "4/15/2002-4/15/2002-4.03274617974\n",
      "4/10/2002-4/10/2002-3.60807040799\n",
      "2/28/2002-3/1/2002-2.94995551517\n",
      "2/1/2002-2/1/2002-3.99969986919\n",
      "1/25/2002-1/28/2002-4.11500924421\n",
      "12/4/2001-12/4/2001-3.6956838419\n",
      "11/12/2001-11/12/2001-3.00961539175\n",
      "10/31/2001-10/31/2001-3.41731658593\n",
      "10/26/2001-10/26/2001-3.21078214384\n",
      "10/9/2001-10/9/2001-2.97270904274\n",
      "9/21/2001-9/21/2001-5.71040969211\n",
      "9/19/2001-9/19/2001-3.17575115563\n",
      "9/7/2001-9/10/2001-7.78936329617\n",
      "8/31/2001-9/4/2001-4.18870681914\n",
      "8/7/2001-8/7/2001-3.06335330471\n",
      "7/11/2001-7/11/2001-3.70310290363\n",
      "7/5/2001-7/5/2001-3.54268283967\n",
      "6/13/2001-6/13/2001-2.91014048539\n",
      "5/14/2001-5/15/2001-5.44433396652\n",
      "4/17/2001-4/17/2001-6.81250841401\n",
      "4/12/2001-4/12/2001-3.04480147129\n",
      "4/9/2001-4/9/2001-3.63468797611\n",
      "4/2/2001-4/4/2001-6.51240791051\n",
      "3/28/2001-3/28/2001-2.9624507971\n",
      "3/21/2001-3/21/2001-3.22533495272\n",
      "3/14/2001-3/14/2001-2.83597000333\n",
      "3/9/2001-3/9/2001-6.93589856064\n",
      "3/6/2001-3/7/2001-5.11053597013\n",
      "2/1/2001-2/1/2001-3.01626706732\n",
      "1/4/2001-1/4/2001-5.68160215742\n",
      "1/2/2001-1/2/2001-10.5778937075\n",
      "12/27/2000-12/27/2000-3.82928394896\n",
      "12/21/2000-12/21/2000-2.94741515705\n",
      "12/19/2000-12/19/2000-4.78386087946\n",
      "11/30/2000-12/4/2000-7.04669692649\n",
      "11/13/2000-11/13/2000-3.81114600826\n",
      "11/9/2000-11/9/2000-3.65592428543\n",
      "11/6/2000-11/6/2000-3.83912765307\n",
      "10/30/2000-10/30/2000-4.35796698579\n",
      "10/23/2000-10/25/2000-4.38590303452\n",
      "10/18/2000-10/18/2000-7.5021507332\n",
      "10/11/2000-10/13/2000-6.28453436752\n",
      "10/6/2000-10/6/2000-2.98976898429\n",
      "10/4/2000-10/4/2000-3.79461353667\n",
      "9/26/2000-9/27/2000-3.83220897032\n",
      "7/27/2000-7/27/2000-4.27275587246\n",
      "7/6/2000-7/6/2000-2.91026589158\n",
      "6/21/2000-6/21/2000-3.34968794948\n",
      "5/25/2000-6/1/2000-6.31310791461\n",
      "5/19/2000-5/19/2000-2.90572325512\n",
      "5/12/2000-5/12/2000-2.93630794085\n",
      "5/2/2000-5/2/2000-3.14850646871\n",
      "4/26/2000-4/26/2000-2.83530590082\n",
      "4/20/2000-4/24/2000-6.72313080967\n",
      "4/13/2000-4/17/2000-12.1453495007\n",
      "4/7/2000-4/10/2000-6.39907310731\n",
      "4/4/2000-4/4/2000-2.89889494927\n",
      "3/28/2000-3/28/2000-3.0554177407\n",
      "3/22/2000-3/22/2000-3.65435735512\n",
      "3/20/2000-3/20/2000-5.35125880382\n",
      "3/15/2000-3/15/2000-11.0485018857\n",
      "3/8/2000-3/10/2000-3.31152129884\n",
      "3/6/2000-3/6/2000-3.20330693254\n",
      "3/1/2000-3/1/2000-4.29369857126\n",
      "2/16/2000-2/17/2000-6.12514554628\n",
      "2/10/2000-2/10/2000-3.6742261226\n",
      "2/8/2000-2/8/2000-3.43424183563\n",
      "2/4/2000-2/4/2000-3.48215522903\n",
      "1/26/2000-1/28/2000-4.91104612736\n",
      "1/20/2000-1/21/2000-5.44596638999\n",
      "1/18/2000-1/18/2000-2.91181548653\n",
      "1/5/2000-1/6/2000-4.99856973483\n",
      "1/3/2000-1/3/2000-8.93253539719\n",
      "12/29/1999-12/30/1999-3.29131504679\n",
      "12/22/1999-12/22/1999-2.92901500283\n",
      "12/2/1999-12/2/1999-3.27311742415\n",
      "11/15/1999-11/15/1999-3.40060610364\n",
      "10/27/1999-10/27/1999-7.26199505146\n",
      "10/19/1999-10/19/1999-3.0731078159\n",
      "10/13/1999-10/14/1999-4.79488134272\n",
      "10/8/1999-10/8/1999-3.58289117231\n",
      "9/30/1999-9/30/1999-3.10179483388\n",
      "9/22/1999-9/22/1999-4.53456995778\n",
      "9/17/1999-9/20/1999-3.58356748487\n",
      "9/2/1999-9/2/1999-6.37095848165\n",
      "8/12/1999-8/12/1999-3.80146471625\n",
      "7/28/1999-7/28/1999-3.02031243013\n",
      "7/19/1999-7/19/1999-4.35455933484\n",
      "6/29/1999-6/29/1999-2.87038785781\n",
      "6/15/1999-6/15/1999-4.28405735574\n",
      "6/3/1999-6/3/1999-3.83801388397\n",
      "5/13/1999-5/13/1999-4.13119395747\n",
      "4/20/1999-4/21/1999-3.99263950941\n",
      "4/15/1999-4/16/1999-3.01636108673\n",
      "4/1/1999-4/1/1999-3.60502078449\n",
      "3/26/1999-3/26/1999-3.18133811816\n",
      "3/19/1999-3/22/1999-4.46167382213\n",
      "3/4/1999-3/4/1999-4.3081752672\n",
      "2/19/1999-2/19/1999-5.04005365585\n",
      "2/10/1999-2/10/1999-3.23915320003\n",
      "2/5/1999-2/5/1999-2.87648059173\n",
      "1/14/1999-1/14/1999-4.00736541204\n",
      "1/5/1999-1/5/1999-3.37831767101\n",
      "12/31/1998-12/31/1998-2.87054174177\n",
      "12/22/1998-12/22/1998-3.54254852472\n",
      "12/3/1998-12/3/1998-3.39494315585\n",
      "11/27/1998-11/27/1998-3.34186107942\n",
      "11/20/1998-11/20/1998-2.94620404476\n",
      "10/14/1998-10/14/1998-7.31613844767\n",
      "9/28/1998-9/30/1998-4.00330556108\n",
      "9/22/1998-9/22/1998-4.74868459458\n",
      "9/16/1998-9/16/1998-3.26387368985\n",
      "9/10/1998-9/10/1998-3.17152110731\n",
      "9/3/1998-9/4/1998-6.49580716863\n",
      "8/21/1998-9/1/1998-10.3550544437\n",
      "8/3/1998-8/3/1998-6.3920491168\n",
      "7/22/1998-7/22/1998-2.85466344931\n",
      "4/24/1998-4/24/1998-2.87076839575\n",
      "3/5/1998-3/5/1998-3.17763431624\n",
      "1/30/1998-1/30/1998-3.47508731222\n",
      "1/8/1998-1/8/1998-3.87273502995\n",
      "11/28/1997-11/28/1997-2.86114551406\n",
      "10/31/1997-10/31/1997-3.7751716762\n",
      "10/23/1997-10/27/1997-9.98602122876\n",
      "10/21/1997-10/21/1997-3.725352233\n",
      "9/15/1997-9/15/1997-4.38323697108\n",
      "8/29/1997-8/29/1997-4.94045006933\n",
      "8/14/1997-8/14/1997-2.9295811106\n",
      "7/21/1997-7/21/1997-3.47725721329\n",
      "3/7/1996-3/7/1996-3.4625413288\n",
      "10/12/1989-10/12/1989-3.79243951809\n",
      "1/7/1988-1/7/1988-3.13692082822\n",
      "10/23/1987-10/23/1987-3.22482198627\n",
      "10/20/1987-10/20/1987-2.97229480527\n",
      "10/16/1987-10/16/1987-9.8332876154\n"
     ]
    }
   ],
   "source": [
    "for a in anoms:\n",
    "    end = df.ix[a.start_timestamp,0]\n",
    "    start = df.ix[a.end_timestamp,0]\n",
    "\n",
    "    print(start + '-' + end + '-' + str(a.anomaly_score))"
   ]
  },
  {
   "cell_type": "code",
   "execution_count": 115,
   "metadata": {
    "collapsed": false
   },
   "outputs": [],
   "source": [
    "aas = list(ad.get_all_scores().iteritems())\n",
    "df2 = pd.DataFrame(aas, columns=['date', 'score'])"
   ]
  },
  {
   "cell_type": "code",
   "execution_count": 116,
   "metadata": {
    "collapsed": false
   },
   "outputs": [
    {
     "data": {
      "image/png": "[encoded data removed]",
      "text/plain": [
       "<matplotlib.figure.Figure at 0x11436b690>"
      ]
     },
     "metadata": {},
     "output_type": "display_data"
    }
   ],
   "source": [
    "plt.plot(df2['date'], df2['score']);"
   ]
  },
  {
   "cell_type": "code",
   "execution_count": null,
   "metadata": {
    "collapsed": true
   },
   "outputs": [],
   "source": [
    "\n",
    "\n",
    "clf = OneClassSVM(nu=0.1, kernel=\"rbf\", gamma=0.1)\n",
    "clf.fit(xtrain)\n",
    "y_pred_train = clf.predict(xtrain)\n",
    "#y_pred_test = clf.predict(X_test)\n",
    "y_pred_outliers = clf.predict(X_outliers)\n",
    "n_error_train = y_pred_train[y_pred_train == -1].size\n",
    "n_error_test = y_pred_test[y_pred_test == -1].size\n",
    "n_error_outliers = y_pred_outliers[y_pred_outliers == 1].size"
   ]
  },
  {
   "cell_type": "code",
   "execution_count": 15,
   "metadata": {
    "collapsed": true
   },
   "outputs": [],
   "source": [
    "# Randomized probability of obtaining set vals given strangeness measure\n",
    "def pfn(vals, strangeness_fn):\n",
    "    a_n = strangeness_fn(vals[-1])\n",
    "    i_greater = 0\n",
    "    i_equal = 0\n",
    "    n = len(vals)\n",
    "    for k in range(0, n-1):\n",
    "        a_k = strangeness_fn(val[k])\n",
    "        if a_k > a_n: i_greater += 1\n",
    "        elif a_k == a_n: i_equal += 1\n",
    "    theta = np.random.rand()\n",
    "    pval = (i_greater + theta*i_equal)/n\n",
    "    retdfurn pval"
   ]
  },
  {
   "cell_type": "code",
   "execution_count": 21,
   "metadata": {
    "collapsed": false
   },
   "outputs": [],
   "source": [
    "epsilon = 0.92\n",
    "\n",
    "class RandomizedPowerMartingale:\n",
    "    \n",
    "    def __init__(self, pfn, sfn, epsilon):\n",
    "        self._pfn = pfn\n",
    "        self._sfn = sfn\n",
    "        self._epsilon = epsilon\n",
    "        self._pval_i = 1\n",
    "        self._m_ip = 1\n",
    "        self._m_i = 1\n",
    "        self._i = 0\n",
    "        \n",
    "    def stream(self, stream):\n",
    "        val = stream.next()\n",
    "        while val is not None:\n",
    "            self._pval_i = self._pfn(item)\n",
    "            self._m_ip = self._m_i\n",
    "            self._m_i *= self._epsilon*self._pval_i**(self._epsilon-1)          \n",
    "            i += 1\n",
    "            val = stream.next()\n",
    "            \n",
    "    def test1(self, lamb):\n",
    "        return self._m_i >= lamb\n",
    "   \n",
    "    def test2(self, t):\n",
    "        return abs(self._m_i - self._m_ip) >= t"
   ]
  },
  {
   "cell_type": "code",
   "execution_count": 14,
   "metadata": {
    "collapsed": false
   },
   "outputs": [],
   "source": [
    "def randomized_power_martingale(stream, strangeness_fn):\n",
    "    '''Calculates the value of the martingale for each data point in the data stream.\n",
    "\n",
    "       Args:\n",
    "            stream (iterable): A sequence of data points (possibly multidimensional)\n",
    "            strangeness_fn (callable): A function returning a measure of a given \n",
    "            data point's strangeness compared to others.'''\n",
    "    \n",
    "    pval = 1        # Likelihood of obtaining data observed so far\n",
    "    Mns = []        # List of martingale values for each data point\n",
    "    Mn = 1          # Value of martingale up to nth data point\n",
    "    alphas = []     # Store list of observed strangeness values\n",
    "    n = 0           # Number of observed data points\n",
    "    epsilon = 0.92  # Define Martingale family to use\n",
    "\n",
    "    # Iterate through data stream\n",
    "    data_point = stream.next()\n",
    "    while data_point is not None:\n",
    "        n += 1      # Increment number of observed data points\n",
    "\n",
    "        # 1: Compute and store scalar `alpha` measuring 'strangeness' of the nth data point\n",
    "        an = strangeness_fn(data_point)\n",
    "        alphas.append(an)\n",
    "        \n",
    "        # 2: Update likelihood of observing the n data points\n",
    "        theta = random() # Random real between 0 and 1\n",
    "        num_a_greater = len([a for a in alphas if a > an]) # Number of points stranger than current\n",
    "        num_a_equal = len([a for a in alphas if a == an]) # Number of points as strange as current\n",
    "        pval = (num_a_greater + theta*num_a_equal)/n # 'Randomized' pval at point `n`\n",
    "        \n",
    "        # 3: Compute and store value of power martingale at point n\n",
    "        Mn *= epsilon*pval**(epsilon-1)\n",
    "        Mns.append(Mn)\n",
    "\n",
    "        # 4: Move to next data point\n",
    "        data_point = stream.next()\n",
    "\n",
    "    # Return all martingale values computed for time series\n",
    "    return Mns    "
   ]
  },
  {
   "cell_type": "markdown",
   "metadata": {},
   "source": [
    "### Project Overview\n",
    "\n",
    "\n",
    "### Data Overview\n",
    "A time series is a sequence of data points indexed by ordered time. Many datasets fits this description, such as stock market indices, meteorological measurements, and network latency. \n",
    "\n",
    "Our algorithm works with n-dimensional vectors of real numbers received in chronological order over fixed and variable time intervals. To evaluate the algorithm's performance, we analyzed the closing values of the S&P 500 Index between January 10th, 1950 and September 9th, 2016. \n",
    "\n",
    "\n",
    "### Algorithm\n",
    "\n",
    "#### Out-of-core Anomaly Detection\n",
    "\n",
    "##### Kernel Function\n",
    "-The kernel function generalizes the familiar notion of 'distance' between data points. In our algorithm, we use the Gaussian kernel, which is applicable to a diverse array of different problem domains. More refined kernels can be used to inject domain-specific knowledge into the algorithm's notion of distance.\n",
    "\n",
    "##### Adiabatic Iterative SVM / 'Strangeness' Function\n",
    "-Traditional support vector machines (SVM's) work on complete training datasets to identify sets of hyperplanes that separate data points into classes. This approach is problematic for on-line problems, where storing and computing with the complete dataset is often computationally infeasible. Our algorithm implements <i>adiabatic iterative SVM</i> to compute support vectors for new data in an interative fashion using the support vectors computed using prior data. This approach uses the kernel function to separate data points and compute a <i>strangeness</i> value whose magnitude reflects how different a given data point is from the rest. \n",
    "\n",
    "##### Randomized Probability Function\n",
    "-The randomized power martingale function uses the randomized probability of observing a given data point given the prior observed data. This is defined as \n",
    "$$ p_n = \\frac{ \\#\\{i: \\alpha_i > \\alpha_n\\}+\\theta_n\\{\\alpha_i = \\alpha_n\\} }{n} $$\n",
    "\n",
    "##### Randomized Power Martingale\n",
    "-The randomized power martingale is defined as \n",
    "$$M_n^\\epsilon=\\prod_{i=1}^{n} \\epsilon p_{i}^{\\epsilon-1}$$\n",
    "\n",
    "The value of this product changes rapidly when the probability of observing a series of data points is low, meaning that there is evidence that exchangeability has been violated (i.e. an anomaly has occurred). \n",
    "\n",
    "\n",
    "\n",
    "\n",
    "Pseudocode"
   ]
  }
 ],
 "metadata": {
  "anaconda-cloud": {},
  "kernelspec": {
   "display_name": "Python [conda env:py27]",
   "language": "python",
   "name": "conda-env-py27-py"
  },
  "language_info": {
   "codemirror_mode": {
    "name": "ipython",
    "version": 2
   },
   "file_extension": ".py",
   "mimetype": "text/x-python",
   "name": "python",
   "nbconvert_exporter": "python",
   "pygments_lexer": "ipython2",
   "version": "2.7.12"
  }
 },
 "nbformat": 4,
 "nbformat_minor": 1
}
